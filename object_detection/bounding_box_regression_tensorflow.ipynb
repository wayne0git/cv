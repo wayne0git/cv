{
 "cells": [
  {
   "cell_type": "markdown",
   "metadata": {},
   "source": [
    "### Single Class Bounding Box Regression\n",
    "Ref - https://www.pyimagesearch.com/2020/10/05/object-detection-bounding-box-regression-with-keras-tensorflow-and-deep-learning/"
   ]
  },
  {
   "cell_type": "code",
   "execution_count": 1,
   "metadata": {},
   "outputs": [],
   "source": [
    "import cv2\n",
    "import numpy as np\n",
    "import os\n",
    "\n",
    "from matplotlib import pyplot as plt\n",
    "from sklearn.model_selection import train_test_split\n",
    "\n",
    "from tensorflow.keras.applications import VGG16\n",
    "from tensorflow.keras.models import Model\n",
    "from tensorflow.keras.layers import Input, Flatten, Dense\n",
    "from tensorflow.keras.optimizers import Adam\n",
    "from tensorflow.keras.preprocessing.image import img_to_array, load_img"
   ]
  },
  {
   "cell_type": "markdown",
   "metadata": {},
   "source": [
    "### Parameter"
   ]
  },
  {
   "cell_type": "code",
   "execution_count": 2,
   "metadata": {},
   "outputs": [],
   "source": [
    "SEED = 1"
   ]
  },
  {
   "cell_type": "code",
   "execution_count": 3,
   "metadata": {},
   "outputs": [],
   "source": [
    "# Data (Train)\n",
    "DATA_PATH = 'data'\n",
    "IMG_DATA_PATH = os.path.join(DATA_PATH, 'images')\n",
    "ANN_DATA_PATH = os.path.join(DATA_PATH, 'airplanes.csv')"
   ]
  },
  {
   "cell_type": "code",
   "execution_count": 43,
   "metadata": {},
   "outputs": [],
   "source": [
    "# Data (Test)\n",
    "IMG_PATH = 'image_0262.jpg'"
   ]
  },
  {
   "cell_type": "code",
   "execution_count": 5,
   "metadata": {},
   "outputs": [],
   "source": [
    "# Train Model\n",
    "LR = 1e-4\n",
    "EPOCHS = 20\n",
    "BATCH_SIZE = 32\n",
    "INPUT_SHAPE = (224, 224, 3)\n",
    "VAL_PERC = 0.1"
   ]
  },
  {
   "cell_type": "code",
   "execution_count": 6,
   "metadata": {},
   "outputs": [],
   "source": [
    "# Output\n",
    "OUT_PATH = 'out'\n",
    "OUT_MODEL_PATH = os.path.join(OUT_PATH, 'detector.h5')"
   ]
  },
  {
   "cell_type": "markdown",
   "metadata": {},
   "source": [
    "### Load Data"
   ]
  },
  {
   "cell_type": "code",
   "execution_count": 20,
   "metadata": {},
   "outputs": [],
   "source": [
    "# Load Annotation Data\n",
    "# List of (Filename, x0, y0, x1, y1)\n",
    "ann_rows = open(ANN_DATA_PATH).read().strip().split('\\n')"
   ]
  },
  {
   "cell_type": "code",
   "execution_count": 21,
   "metadata": {},
   "outputs": [],
   "source": [
    "# Load Image Data\n",
    "data, targets = [], []\n",
    "for row in ann_rows:\n",
    "    # Extract filename and bounding box\n",
    "    (filename, x0, y0, x1, y1) = row.split(',')\n",
    "\n",
    "    # Read Image\n",
    "    img = cv2.imread(os.path.join(IMG_DATA_PATH, filename))\n",
    "\n",
    "    # Normalize bounding box\n",
    "    h, w = img.shape[:2]\n",
    "    x0_n, x1_n = float(x0) / w, float(x1) / w\n",
    "    y0_n, y1_n = float(y0) / h, float(y1) / h\n",
    "\n",
    "    # Preprocessing\n",
    "    img_p = cv2.resize(img, INPUT_SHAPE[:2])\n",
    "\n",
    "    # Append data\n",
    "    data.append(img_p)\n",
    "    targets.append((x0_n, y0_n, x1_n, y1_n))"
   ]
  },
  {
   "cell_type": "code",
   "execution_count": 44,
   "metadata": {},
   "outputs": [],
   "source": [
    "# Load Test Data\n",
    "img_test = cv2.imread(IMG_PATH)\n",
    "\n",
    "# Preprocess Test Data\n",
    "img_test_p = cv2.resize(img_test, INPUT_SHAPE[:2])\n",
    "img_test_p = img_test_p.astype(np.float32) / 255.0\n",
    "img_test_p = img_test_p[np.newaxis, ...]"
   ]
  },
  {
   "cell_type": "markdown",
   "metadata": {},
   "source": [
    "### Preprocess Data"
   ]
  },
  {
   "cell_type": "code",
   "execution_count": 23,
   "metadata": {},
   "outputs": [],
   "source": [
    "# Normalize\n",
    "data = np.array(data, dtype=np.float32) / 255.0\n",
    "targets = np.array(targets, dtype=np.float32)"
   ]
  },
  {
   "cell_type": "markdown",
   "metadata": {},
   "source": [
    "### Split Data"
   ]
  },
  {
   "cell_type": "code",
   "execution_count": 25,
   "metadata": {},
   "outputs": [],
   "source": [
    "split = train_test_split(data, targets, test_size=VAL_PERC, random_state=SEED)\n",
    "\n",
    "data_train, data_val = split[:2]\n",
    "targets_train, targets_val = split[2:4]"
   ]
  },
  {
   "cell_type": "markdown",
   "metadata": {},
   "source": [
    "### Create Model"
   ]
  },
  {
   "cell_type": "code",
   "execution_count": 26,
   "metadata": {},
   "outputs": [],
   "source": [
    "# VGG16 baseline (Fix Weight For Transfer Learning)\n",
    "vgg = VGG16(include_top=False, input_tensor=Input(shape=INPUT_SHAPE))\n",
    "vgg.trainable = False"
   ]
  },
  {
   "cell_type": "code",
   "execution_count": 27,
   "metadata": {},
   "outputs": [],
   "source": [
    "# Add FC layer for Box Regression\n",
    "flatten = Flatten()(vgg.output)\n",
    "fc1 = Dense(128, activation='relu')(flatten)\n",
    "fc2 = Dense(64, activation='relu')(fc1)\n",
    "fc3 = Dense(32, activation='relu')(fc2)\n",
    "final = Dense(4, activation='sigmoid')(fc3)\n",
    "model = Model(inputs=vgg.input, outputs=final)"
   ]
  },
  {
   "cell_type": "code",
   "execution_count": 28,
   "metadata": {},
   "outputs": [],
   "source": [
    "# Compile\n",
    "model.compile(loss='mse', optimizer=Adam(learning_rate=LR))"
   ]
  },
  {
   "cell_type": "markdown",
   "metadata": {},
   "source": [
    "### Train Model"
   ]
  },
  {
   "cell_type": "code",
   "execution_count": null,
   "metadata": {
    "scrolled": true
   },
   "outputs": [],
   "source": [
    "model.fit(data_train, targets_train, batch_size=BATCH_SIZE, epochs=EPOCHS, validation_data=(data_val, targets_val))"
   ]
  },
  {
   "cell_type": "markdown",
   "metadata": {},
   "source": [
    "### Save Model"
   ]
  },
  {
   "cell_type": "code",
   "execution_count": 30,
   "metadata": {},
   "outputs": [],
   "source": [
    "if not os.path.isdir(OUT_PATH):\n",
    "    os.makedirs(OUT_PATH)"
   ]
  },
  {
   "cell_type": "code",
   "execution_count": 31,
   "metadata": {},
   "outputs": [],
   "source": [
    "model.save(OUT_MODEL_PATH)"
   ]
  },
  {
   "cell_type": "markdown",
   "metadata": {},
   "source": [
    "### Performance Evaluation"
   ]
  },
  {
   "cell_type": "code",
   "execution_count": 45,
   "metadata": {},
   "outputs": [],
   "source": [
    "# Inference\n",
    "preds = model.predict(img_test_p)"
   ]
  },
  {
   "cell_type": "code",
   "execution_count": 46,
   "metadata": {},
   "outputs": [],
   "source": [
    "# Post Processing\n",
    "test_h, test_w = img_test.shape[:2]\n",
    "\n",
    "x0 = int(preds[0, 0] * test_w)\n",
    "y0 = int(preds[0, 1] * test_h)\n",
    "x1 = int(preds[0, 2] * test_w)\n",
    "y1 = int(preds[0, 3] * test_h)"
   ]
  },
  {
   "cell_type": "code",
   "execution_count": 47,
   "metadata": {},
   "outputs": [],
   "source": [
    "# Overlay Rectangle\n",
    "img_test = cv2.rectangle(img_test, (x0, y0), (x1, y1), (0, 255, 0), 2)"
   ]
  },
  {
   "cell_type": "code",
   "execution_count": 48,
   "metadata": {},
   "outputs": [],
   "source": [
    "cv2.imshow('Detection Result', img_test)\n",
    "cv2.waitKey(0)\n",
    "cv2.destroyAllWindows()"
   ]
  },
  {
   "cell_type": "code",
   "execution_count": null,
   "metadata": {},
   "outputs": [],
   "source": []
  }
 ],
 "metadata": {
  "kernelspec": {
   "display_name": "Python 3",
   "language": "python",
   "name": "python3"
  },
  "language_info": {
   "codemirror_mode": {
    "name": "ipython",
    "version": 3
   },
   "file_extension": ".py",
   "mimetype": "text/x-python",
   "name": "python",
   "nbconvert_exporter": "python",
   "pygments_lexer": "ipython3",
   "version": "3.7.6"
  }
 },
 "nbformat": 4,
 "nbformat_minor": 4
}
