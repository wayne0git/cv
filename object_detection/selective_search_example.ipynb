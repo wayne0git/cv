{
 "cells": [
  {
   "cell_type": "markdown",
   "metadata": {},
   "source": [
    "## Selective Search Example\n",
    "- Ref : https://www.pyimagesearch.com/2020/06/29/opencv-selective-search-for-object-detection/"
   ]
  },
  {
   "cell_type": "code",
   "execution_count": 1,
   "metadata": {},
   "outputs": [],
   "source": [
    "import cv2\n",
    "import numpy as np\n",
    "import time"
   ]
  },
  {
   "cell_type": "markdown",
   "metadata": {},
   "source": [
    "### Parameter"
   ]
  },
  {
   "cell_type": "code",
   "execution_count": 11,
   "metadata": {},
   "outputs": [],
   "source": [
    "FPATH = '1.png'\n",
    "OPTION = 'quality' # or 'quality'"
   ]
  },
  {
   "cell_type": "markdown",
   "metadata": {},
   "source": [
    "### Prepare Input Data"
   ]
  },
  {
   "cell_type": "code",
   "execution_count": 3,
   "metadata": {},
   "outputs": [],
   "source": [
    "# read image\n",
    "im = cv2.imread(FPATH)\n",
    "\n",
    "# resize image (for faster processing)\n",
    "im = cv2.resize(im, (300, 300))"
   ]
  },
  {
   "cell_type": "markdown",
   "metadata": {},
   "source": [
    "### Selective Search based on OpenCV"
   ]
  },
  {
   "cell_type": "code",
   "execution_count": 12,
   "metadata": {},
   "outputs": [],
   "source": [
    "# create selective search segmentation object using default parameters\n",
    "ss = cv2.ximgproc.segmentation.createSelectiveSearchSegmentation()\n",
    "\n",
    "# set input image\n",
    "ss.setBaseImage(im)\n",
    "\n",
    "# switch option (should be after setBaseImage)\n",
    "if OPTION == 'fast':\n",
    "    ss.switchToSelectiveSearchFast()\n",
    "else:\n",
    "    ss.switchToSelectiveSearchQuality()"
   ]
  },
  {
   "cell_type": "code",
   "execution_count": 13,
   "metadata": {},
   "outputs": [],
   "source": [
    "# run selective search\n",
    "t1 = time.time()\n",
    "rects = ss.process()\n",
    "t2 = time.time()"
   ]
  },
  {
   "cell_type": "code",
   "execution_count": 14,
   "metadata": {
    "scrolled": true
   },
   "outputs": [
    {
     "name": "stdout",
     "output_type": "stream",
     "text": [
      "Runtime for (300, 300, 3) image: 2.72 sec\n",
      "Region found: 5650\n"
     ]
    }
   ],
   "source": [
    "print('Runtime for %s image: %.2f sec' % (im.shape, t2 - t1))\n",
    "print('Region found: %d' % len(rects))"
   ]
  },
  {
   "cell_type": "markdown",
   "metadata": {},
   "source": [
    "### Visualization result"
   ]
  },
  {
   "cell_type": "code",
   "execution_count": 15,
   "metadata": {},
   "outputs": [],
   "source": [
    "cv2.namedWindow('Result', cv2.WINDOW_NORMAL)\n",
    "image_vis = im.copy()\n",
    "\n",
    "# Overlay found proposals\n",
    "for ind in np.random.choice(len(rects), 10, replace=False):\n",
    "    x, y, w, h = rects[ind]\n",
    "    color = [np.random.randint(0, 255) for j in range(3)]\n",
    "    cv2.rectangle(image_vis, (x, y), (x+w, y+h), color, 3)\n",
    "\n",
    "cv2.imshow('Result', image_vis)\n",
    "cv2.waitKey(0)\n",
    "cv2.destroyAllWindows()"
   ]
  },
  {
   "cell_type": "code",
   "execution_count": null,
   "metadata": {},
   "outputs": [],
   "source": []
  }
 ],
 "metadata": {
  "kernelspec": {
   "display_name": "Python 3",
   "language": "python",
   "name": "python3"
  },
  "language_info": {
   "codemirror_mode": {
    "name": "ipython",
    "version": 3
   },
   "file_extension": ".py",
   "mimetype": "text/x-python",
   "name": "python",
   "nbconvert_exporter": "python",
   "pygments_lexer": "ipython3",
   "version": "3.7.6"
  }
 },
 "nbformat": 4,
 "nbformat_minor": 4
}
