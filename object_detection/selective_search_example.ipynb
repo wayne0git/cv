{
  "nbformat": 4,
  "nbformat_minor": 0,
  "metadata": {
    "kernelspec": {
      "display_name": "Python 3",
      "language": "python",
      "name": "python3"
    },
    "language_info": {
      "codemirror_mode": {
        "name": "ipython",
        "version": 3
      },
      "file_extension": ".py",
      "mimetype": "text/x-python",
      "name": "python",
      "nbconvert_exporter": "python",
      "pygments_lexer": "ipython3",
      "version": "3.7.6"
    },
    "colab": {
      "name": "selective_search_example.ipynb",
      "provenance": [],
      "toc_visible": true
    }
  },
  "cells": [
    {
      "cell_type": "markdown",
      "metadata": {
        "id": "YevWftYHdC7T",
        "colab_type": "text"
      },
      "source": [
        "## Selective Search Example\n",
        "- Ref : https://www.pyimagesearch.com/2020/06/29/opencv-selective-search-for-object-detection/"
      ]
    },
    {
      "cell_type": "code",
      "metadata": {
        "id": "2Fx0n8AWdC7V",
        "colab_type": "code",
        "colab": {}
      },
      "source": [
        "import cv2\n",
        "import numpy as np\n",
        "import time"
      ],
      "execution_count": null,
      "outputs": []
    },
    {
      "cell_type": "markdown",
      "metadata": {
        "id": "h77g54XAdC7c",
        "colab_type": "text"
      },
      "source": [
        "### Parameter"
      ]
    },
    {
      "cell_type": "code",
      "metadata": {
        "id": "cWQo-8LedC7e",
        "colab_type": "code",
        "colab": {}
      },
      "source": [
        "FPATH = '1.png'\n",
        "OPTION = 'quality' # or 'quality'"
      ],
      "execution_count": null,
      "outputs": []
    },
    {
      "cell_type": "markdown",
      "metadata": {
        "id": "11T-AupYdC7k",
        "colab_type": "text"
      },
      "source": [
        "### Prepare Input Data"
      ]
    },
    {
      "cell_type": "code",
      "metadata": {
        "id": "qemAaucDdC7l",
        "colab_type": "code",
        "colab": {}
      },
      "source": [
        "# read image\n",
        "im = cv2.imread(FPATH)\n",
        "\n",
        "# resize image (for faster processing)\n",
        "im = cv2.resize(im, (300, 300))"
      ],
      "execution_count": null,
      "outputs": []
    },
    {
      "cell_type": "markdown",
      "metadata": {
        "id": "MBFM26FcdC7r",
        "colab_type": "text"
      },
      "source": [
        "### Selective Search based on OpenCV"
      ]
    },
    {
      "cell_type": "code",
      "metadata": {
        "id": "Gnlc2O-7dC7s",
        "colab_type": "code",
        "colab": {}
      },
      "source": [
        "# create selective search segmentation object using default parameters\n",
        "ss = cv2.ximgproc.segmentation.createSelectiveSearchSegmentation()\n",
        "\n",
        "# set input image\n",
        "ss.setBaseImage(im)\n",
        "\n",
        "# switch option (should be after setBaseImage)\n",
        "if OPTION == 'fast':\n",
        "    ss.switchToSelectiveSearchFast()\n",
        "else:\n",
        "    ss.switchToSelectiveSearchQuality()"
      ],
      "execution_count": null,
      "outputs": []
    },
    {
      "cell_type": "code",
      "metadata": {
        "id": "Y7FgzZdSdC70",
        "colab_type": "code",
        "colab": {}
      },
      "source": [
        "# run selective search\n",
        "t1 = time.time()\n",
        "rects = ss.process()\n",
        "t2 = time.time()"
      ],
      "execution_count": null,
      "outputs": []
    },
    {
      "cell_type": "code",
      "metadata": {
        "scrolled": true,
        "id": "veCRXEXZdC8B",
        "colab_type": "code",
        "colab": {},
        "outputId": "93b96983-c86c-47dd-ac78-1889ce533f5c"
      },
      "source": [
        "print('Runtime for %s image: %.2f sec' % (im.shape, t2 - t1))\n",
        "print('Region found: %d' % len(rects))"
      ],
      "execution_count": null,
      "outputs": [
        {
          "output_type": "stream",
          "text": [
            "Runtime for (300, 300, 3) image: 2.72 sec\n",
            "Region found: 5650\n"
          ],
          "name": "stdout"
        }
      ]
    },
    {
      "cell_type": "markdown",
      "metadata": {
        "id": "VetAR_3ldC8I",
        "colab_type": "text"
      },
      "source": [
        "### Visualization result"
      ]
    },
    {
      "cell_type": "code",
      "metadata": {
        "id": "eUKIPA77dC8K",
        "colab_type": "code",
        "colab": {}
      },
      "source": [
        "cv2.namedWindow('Result', cv2.WINDOW_NORMAL)\n",
        "image_vis = im.copy()\n",
        "\n",
        "# Overlay found proposals\n",
        "for ind in np.random.choice(len(rects), 10, replace=False):\n",
        "    x, y, w, h = rects[ind]\n",
        "    color = [np.random.randint(0, 255) for j in range(3)]\n",
        "    cv2.rectangle(image_vis, (x, y), (x+w, y+h), color, 3)\n",
        "\n",
        "cv2.imshow('Result', image_vis)\n",
        "cv2.waitKey(0)\n",
        "cv2.destroyAllWindows()"
      ],
      "execution_count": null,
      "outputs": []
    },
    {
      "cell_type": "code",
      "metadata": {
        "id": "8SiJuxUidC8P",
        "colab_type": "code",
        "colab": {}
      },
      "source": [
        ""
      ],
      "execution_count": null,
      "outputs": []
    }
  ]
}