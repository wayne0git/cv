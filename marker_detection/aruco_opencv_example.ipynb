{
 "cells": [
  {
   "cell_type": "markdown",
   "metadata": {},
   "source": [
    "## ArUco markers example\n",
    "Ref - \n",
    "1. https://www.pyimagesearch.com/2020/12/14/generating-aruco-markers-with-opencv-and-python/\n",
    "2. Online ArUco generator https://chev.me/arucogen/\n",
    "3. https://www.pyimagesearch.com/2020/12/21/detecting-aruco-markers-with-opencv-and-python/"
   ]
  },
  {
   "cell_type": "markdown",
   "metadata": {},
   "source": [
    "### Load Package"
   ]
  },
  {
   "cell_type": "code",
   "execution_count": 1,
   "metadata": {},
   "outputs": [],
   "source": [
    "import cv2\n",
    "import numpy as np\n",
    "import os\n",
    "\n",
    "from matplotlib import pyplot as plt"
   ]
  },
  {
   "cell_type": "code",
   "execution_count": 2,
   "metadata": {
    "scrolled": true
   },
   "outputs": [
    {
     "data": {
      "text/plain": [
       "'4.2.0'"
      ]
     },
     "execution_count": 2,
     "metadata": {},
     "output_type": "execute_result"
    }
   ],
   "source": [
    "cv2.__version__"
   ]
  },
  {
   "cell_type": "markdown",
   "metadata": {},
   "source": [
    "### Constant"
   ]
  },
  {
   "cell_type": "code",
   "execution_count": 3,
   "metadata": {},
   "outputs": [],
   "source": [
    "# ArUco Dictionary (DICT_NxN_M) -- Define the mapping between ArUco marker and encoded ID\n",
    "# NXN -- 2D bit size of the ArUco marker.\n",
    "# M -- Total number of unique ArUco IDs. \n",
    "#      Larger bit size with smaller unique ID increases the inter-marker distance\n",
    "#      => Less prone to false readings\n",
    "ARUCO_DICT = {\n",
    "    \"DICT_4X4_50\": cv2.aruco.DICT_4X4_50,\n",
    "    \"DICT_4X4_100\": cv2.aruco.DICT_4X4_100,\n",
    "    \"DICT_4X4_250\": cv2.aruco.DICT_4X4_250,\n",
    "    \"DICT_4X4_1000\": cv2.aruco.DICT_4X4_1000,\n",
    "    \"DICT_5X5_50\": cv2.aruco.DICT_5X5_50,\n",
    "    \"DICT_5X5_100\": cv2.aruco.DICT_5X5_100,\n",
    "    \"DICT_5X5_250\": cv2.aruco.DICT_5X5_250,\n",
    "    \"DICT_5X5_1000\": cv2.aruco.DICT_5X5_1000,\n",
    "    \"DICT_6X6_50\": cv2.aruco.DICT_6X6_50,\n",
    "    \"DICT_6X6_100\": cv2.aruco.DICT_6X6_100,\n",
    "    \"DICT_6X6_250\": cv2.aruco.DICT_6X6_250,\n",
    "    \"DICT_6X6_1000\": cv2.aruco.DICT_6X6_1000,\n",
    "    \"DICT_7X7_50\": cv2.aruco.DICT_7X7_50,\n",
    "    \"DICT_7X7_100\": cv2.aruco.DICT_7X7_100,\n",
    "    \"DICT_7X7_250\": cv2.aruco.DICT_7X7_250,\n",
    "    \"DICT_7X7_1000\": cv2.aruco.DICT_7X7_1000,\n",
    "    \"DICT_ARUCO_ORIGINAL\": cv2.aruco.DICT_ARUCO_ORIGINAL,\n",
    "    \"DICT_APRILTAG_16h5\": cv2.aruco.DICT_APRILTAG_16h5,\n",
    "    \"DICT_APRILTAG_25h9\": cv2.aruco.DICT_APRILTAG_25h9,\n",
    "    \"DICT_APRILTAG_36h10\": cv2.aruco.DICT_APRILTAG_36h10,\n",
    "    \"DICT_APRILTAG_36h11\": cv2.aruco.DICT_APRILTAG_36h11}"
   ]
  },
  {
   "cell_type": "markdown",
   "metadata": {},
   "source": [
    "### Parameter"
   ]
  },
  {
   "cell_type": "code",
   "execution_count": 4,
   "metadata": {},
   "outputs": [],
   "source": [
    "ARUCO_DICT_TYPE = 'DICT_7X7_100'\n",
    "ARUCO_BORDER_NBIT = 1           # width of the marker border in bits\n",
    "ARUCO_IMG_SIZE = 500            # size of the image in pixels"
   ]
  },
  {
   "cell_type": "code",
   "execution_count": 94,
   "metadata": {},
   "outputs": [],
   "source": [
    "OUT_ID_NUM = 10\n",
    "OUT_ID_SIZE = [10, 80]"
   ]
  },
  {
   "cell_type": "markdown",
   "metadata": {},
   "source": [
    "### Initialize ArUco Dictionary"
   ]
  },
  {
   "cell_type": "code",
   "execution_count": 6,
   "metadata": {},
   "outputs": [],
   "source": [
    "aruco_dict = cv2.aruco.Dictionary_get(ARUCO_DICT[ARUCO_DICT_TYPE])"
   ]
  },
  {
   "cell_type": "markdown",
   "metadata": {},
   "source": [
    "### Create ArUco Marker"
   ]
  },
  {
   "cell_type": "code",
   "execution_count": 54,
   "metadata": {},
   "outputs": [],
   "source": [
    "def create_aruco_marker(aruco_dict, ids, img_sizes=ARUCO_IMG_SIZE):\n",
    "    # Initialize img size\n",
    "    if type(img_sizes) == int:\n",
    "        img_sizes = [img_sizes] * len(ids)\n",
    "\n",
    "    # Create markers\n",
    "    markers = []\n",
    "    for id, img_size in zip(ids, img_sizes):\n",
    "        marker = np.zeros((img_size, img_size), dtype=np.uint8)\n",
    "        _ = cv2.aruco.drawMarker(aruco_dict, id, img_size, marker, ARUCO_BORDER_NBIT)\n",
    "        markers.append(marker)\n",
    "\n",
    "    return markers"
   ]
  },
  {
   "cell_type": "code",
   "execution_count": 113,
   "metadata": {},
   "outputs": [
    {
     "data": {
      "text/plain": [
       "array([42, 27, 71, 32, 18, 44, 29, 57, 64, 42])"
      ]
     },
     "execution_count": 113,
     "metadata": {},
     "output_type": "execute_result"
    }
   ],
   "source": [
    "# Random select ArUco IDs (Also use IDs as its size)\n",
    "marker_ids = np.random.choice(np.arange(OUT_ID_SIZE[0], OUT_ID_SIZE[1]), OUT_ID_NUM)\n",
    "marker_ids"
   ]
  },
  {
   "cell_type": "code",
   "execution_count": 114,
   "metadata": {},
   "outputs": [],
   "source": [
    "# Create markers on canvas\n",
    "canvas = np.ones((ARUCO_IMG_SIZE, ARUCO_IMG_SIZE), dtype=np.uint8) * 255\n",
    "\n",
    "for mid, marker in enumerate(create_aruco_marker(aruco_dict, marker_ids, marker_ids)):\n",
    "    # Random marker position\n",
    "    x, y = np.random.choice(np.arange(OUT_ID_SIZE[1], ARUCO_IMG_SIZE - OUT_ID_SIZE[1]), 2)\n",
    "\n",
    "    # Place marker\n",
    "    canvas[y:y+marker_ids[mid], x:x+marker_ids[mid]] = marker"
   ]
  },
  {
   "cell_type": "markdown",
   "metadata": {},
   "source": [
    "### ArUco Marker Detection"
   ]
  },
  {
   "cell_type": "code",
   "execution_count": 115,
   "metadata": {},
   "outputs": [],
   "source": [
    "# Define the ArUco detection parameters\n",
    "arucoParams = cv2.aruco.DetectorParameters_create()"
   ]
  },
  {
   "cell_type": "code",
   "execution_count": 116,
   "metadata": {},
   "outputs": [],
   "source": [
    "# Detection\n",
    "# corners_list (List[numpy array]) -- List of (x, y) coordinates (numpy array of (1, 4, 2)) of detected markers.\n",
    "# ids (numpy array) -- Index of detected marker.\n",
    "# rejected (List[numpy array]) -- Rejected list of (x, y) coordinates of potential markers.\n",
    "corners_list, ids, rejected = cv2.aruco.detectMarkers(canvas, aruco_dict, parameters=arucoParams)"
   ]
  },
  {
   "cell_type": "code",
   "execution_count": 117,
   "metadata": {},
   "outputs": [],
   "source": [
    "# Visualization\n",
    "img_show = cv2.cvtColor(canvas, cv2.COLOR_GRAY2RGB)\n",
    "\n",
    "for corners, id in zip(corners_list, ids):\n",
    "    # Get coordinate\n",
    "    pt1 = (int(corners[0, 0, 0]), int(corners[0, 0, 1]))\n",
    "    pt2 = (int(corners[0, 1, 0]), int(corners[0, 1, 1]))\n",
    "    pt3 = (int(corners[0, 2, 0]), int(corners[0, 2, 1]))\n",
    "    pt4 = (int(corners[0, 3, 0]), int(corners[0, 3, 1]))\n",
    "\n",
    "    # Draw ROI\n",
    "    cv2.line(img_show, pt1, pt2, (0, 255, 0), 2)\n",
    "    cv2.line(img_show, pt2, pt3, (0, 255, 0), 2)\n",
    "    cv2.line(img_show, pt3, pt4, (0, 255, 0), 2)\n",
    "    cv2.line(img_show, pt4, pt1, (0, 255, 0), 2)\n",
    "\n",
    "    cv2.putText(img_show, str(id), (pt1[0], pt1[1]), cv2.FONT_HERSHEY_SIMPLEX, 0.5, (0, 255, 0), 2)"
   ]
  },
  {
   "cell_type": "code",
   "execution_count": 118,
   "metadata": {},
   "outputs": [
    {
     "data": {
      "text/plain": [
       "<matplotlib.image.AxesImage at 0x2480ce1be88>"
      ]
     },
     "execution_count": 118,
     "metadata": {},
     "output_type": "execute_result"
    },
    {
     "data": {
      "image/png": "[encoded data removed]",
      "text/plain": [
       "<Figure size 432x432 with 1 Axes>"
      ]
     },
     "metadata": {
      "needs_background": "light"
     },
     "output_type": "display_data"
    }
   ],
   "source": [
    "# Visualization\n",
    "plt.figure(figsize=(6, 6))\n",
    "plt.imshow(img_show)"
   ]
  },
  {
   "cell_type": "markdown",
   "metadata": {},
   "source": [
    "### ArUco Marker Visualization"
   ]
  },
  {
   "cell_type": "code",
   "execution_count": 58,
   "metadata": {},
   "outputs": [
    {
     "data": {
      "image/png": "[encoded data removed]",
      "text/plain": [
       "<Figure size 720x288 with 4 Axes>"
      ]
     },
     "metadata": {
      "needs_background": "light"
     },
     "output_type": "display_data"
    }
   ],
   "source": [
    "# Marker IDs\n",
    "marker_ids = [0, 1, 2, 3]\n",
    "\n",
    "# Create & Plot marker\n",
    "fig = plt.figure(figsize=[10, 4])\n",
    "for mid, marker in enumerate(create_aruco_marker(aruco_dict, marker_ids)):\n",
    "    plt.subplot(1, len(marker_ids), mid + 1)\n",
    "    plt.imshow(marker, cmap='gray')"
   ]
  }
 ],
 "metadata": {
  "kernelspec": {
   "display_name": "Python 3",
   "language": "python",
   "name": "python3"
  },
  "language_info": {
   "codemirror_mode": {
    "name": "ipython",
    "version": 3
   },
   "file_extension": ".py",
   "mimetype": "text/x-python",
   "name": "python",
   "nbconvert_exporter": "python",
   "pygments_lexer": "ipython3",
   "version": "3.7.6"
  }
 },
 "nbformat": 4,
 "nbformat_minor": 4
}
