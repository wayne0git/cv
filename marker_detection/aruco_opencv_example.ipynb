{
 "cells": [
  {
   "cell_type": "markdown",
   "metadata": {},
   "source": [
    "## ArUco markers example\n",
    "Ref - \n",
    "1. https://www.pyimagesearch.com/2020/12/14/generating-aruco-markers-with-opencv-and-python/\n",
    "2. Online ArUco generator https://chev.me/arucogen/"
   ]
  },
  {
   "cell_type": "markdown",
   "metadata": {},
   "source": [
    "### Load Package"
   ]
  },
  {
   "cell_type": "code",
   "execution_count": 1,
   "metadata": {},
   "outputs": [],
   "source": [
    "import cv2\n",
    "import numpy as np\n",
    "import os\n",
    "\n",
    "from matplotlib import pyplot as plt"
   ]
  },
  {
   "cell_type": "code",
   "execution_count": 2,
   "metadata": {
    "scrolled": true
   },
   "outputs": [
    {
     "data": {
      "text/plain": [
       "'4.2.0'"
      ]
     },
     "execution_count": 2,
     "metadata": {},
     "output_type": "execute_result"
    }
   ],
   "source": [
    "cv2.__version__"
   ]
  },
  {
   "cell_type": "markdown",
   "metadata": {},
   "source": [
    "### Constant"
   ]
  },
  {
   "cell_type": "code",
   "execution_count": 3,
   "metadata": {},
   "outputs": [],
   "source": [
    "# ArUco Dictionary (DICT_NxN_M) -- Define the mapping between ArUco marker and encoded ID\n",
    "# NXN -- 2D bit size of the ArUco marker.\n",
    "# M -- Total number of unique ArUco IDs. \n",
    "#      Larger bit size with smaller unique ID increases the inter-marker distance\n",
    "#      => Less prone to false readings\n",
    "ARUCO_DICT = {\n",
    "    \"DICT_4X4_50\": cv2.aruco.DICT_4X4_50,\n",
    "    \"DICT_4X4_100\": cv2.aruco.DICT_4X4_100,\n",
    "    \"DICT_4X4_250\": cv2.aruco.DICT_4X4_250,\n",
    "    \"DICT_4X4_1000\": cv2.aruco.DICT_4X4_1000,\n",
    "    \"DICT_5X5_50\": cv2.aruco.DICT_5X5_50,\n",
    "    \"DICT_5X5_100\": cv2.aruco.DICT_5X5_100,\n",
    "    \"DICT_5X5_250\": cv2.aruco.DICT_5X5_250,\n",
    "    \"DICT_5X5_1000\": cv2.aruco.DICT_5X5_1000,\n",
    "    \"DICT_6X6_50\": cv2.aruco.DICT_6X6_50,\n",
    "    \"DICT_6X6_100\": cv2.aruco.DICT_6X6_100,\n",
    "    \"DICT_6X6_250\": cv2.aruco.DICT_6X6_250,\n",
    "    \"DICT_6X6_1000\": cv2.aruco.DICT_6X6_1000,\n",
    "    \"DICT_7X7_50\": cv2.aruco.DICT_7X7_50,\n",
    "    \"DICT_7X7_100\": cv2.aruco.DICT_7X7_100,\n",
    "    \"DICT_7X7_250\": cv2.aruco.DICT_7X7_250,\n",
    "    \"DICT_7X7_1000\": cv2.aruco.DICT_7X7_1000,\n",
    "    \"DICT_ARUCO_ORIGINAL\": cv2.aruco.DICT_ARUCO_ORIGINAL,\n",
    "    \"DICT_APRILTAG_16h5\": cv2.aruco.DICT_APRILTAG_16h5,\n",
    "    \"DICT_APRILTAG_25h9\": cv2.aruco.DICT_APRILTAG_25h9,\n",
    "    \"DICT_APRILTAG_36h10\": cv2.aruco.DICT_APRILTAG_36h10,\n",
    "    \"DICT_APRILTAG_36h11\": cv2.aruco.DICT_APRILTAG_36h11}"
   ]
  },
  {
   "cell_type": "markdown",
   "metadata": {},
   "source": [
    "### Parameter"
   ]
  },
  {
   "cell_type": "code",
   "execution_count": 14,
   "metadata": {},
   "outputs": [],
   "source": [
    "ARUCO_DICT_TYPE = 'DICT_7X7_100'\n",
    "ARUCO_BORDER_NBIT = 1           # width of the marker border in bits\n",
    "ARUCO_IMG_SIZE = 300            # size of the image in pixels"
   ]
  },
  {
   "cell_type": "markdown",
   "metadata": {},
   "source": [
    "### Initialize ArUco Dictionary"
   ]
  },
  {
   "cell_type": "code",
   "execution_count": 15,
   "metadata": {},
   "outputs": [],
   "source": [
    "aruco_dict = cv2.aruco.Dictionary_get(ARUCO_DICT[ARUCO_DICT_TYPE])"
   ]
  },
  {
   "cell_type": "markdown",
   "metadata": {},
   "source": [
    "### Create ArUco Marker"
   ]
  },
  {
   "cell_type": "code",
   "execution_count": 16,
   "metadata": {},
   "outputs": [],
   "source": [
    "def create_aruco_marker(aruco_dict, ids):\n",
    "    markers = []\n",
    "    for id in ids:\n",
    "        marker = np.zeros((ARUCO_IMG_SIZE, ARUCO_IMG_SIZE, 1), dtype=np.uint8)\n",
    "        _ = cv2.aruco.drawMarker(aruco_dict, id, ARUCO_IMG_SIZE, marker, ARUCO_BORDER_NBIT)\n",
    "        markers.append(marker)\n",
    "\n",
    "    return markers"
   ]
  },
  {
   "cell_type": "markdown",
   "metadata": {},
   "source": [
    "### ArUco Marker Visualization"
   ]
  },
  {
   "cell_type": "code",
   "execution_count": 17,
   "metadata": {},
   "outputs": [
    {
     "data": {
      "image/png": "[encoded data removed]",
      "text/plain": [
       "<Figure size 720x288 with 4 Axes>"
      ]
     },
     "metadata": {
      "needs_background": "light"
     },
     "output_type": "display_data"
    }
   ],
   "source": [
    "# Marker IDs\n",
    "marker_ids = [0, 1, 2, 3]\n",
    "\n",
    "# Create & Plot marker\n",
    "fig = plt.figure(figsize=[10, 4])\n",
    "for mid, marker in enumerate(create_aruco_marker(aruco_dict, marker_ids)):\n",
    "    plt.subplot(1, len(marker_ids), mid + 1)\n",
    "    plt.imshow(marker[..., 0], cmap='gray')"
   ]
  }
 ],
 "metadata": {
  "kernelspec": {
   "display_name": "Python 3",
   "language": "python",
   "name": "python3"
  },
  "language_info": {
   "codemirror_mode": {
    "name": "ipython",
    "version": 3
   },
   "file_extension": ".py",
   "mimetype": "text/x-python",
   "name": "python",
   "nbconvert_exporter": "python",
   "pygments_lexer": "ipython3",
   "version": "3.7.6"
  }
 },
 "nbformat": 4,
 "nbformat_minor": 4
}
