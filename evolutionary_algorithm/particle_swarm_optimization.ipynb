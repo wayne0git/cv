{
 "cells": [
  {
   "cell_type": "markdown",
   "metadata": {},
   "source": [
    "## Particle Swarm Optimization\n",
    "Ref - https://towardsdatascience.com/particle-swarm-optimization-visually-explained-46289eeb2e14"
   ]
  },
  {
   "cell_type": "code",
   "execution_count": 27,
   "metadata": {},
   "outputs": [],
   "source": [
    "%matplotlib inline"
   ]
  },
  {
   "cell_type": "markdown",
   "metadata": {},
   "source": [
    "### Import Package"
   ]
  },
  {
   "cell_type": "code",
   "execution_count": 17,
   "metadata": {},
   "outputs": [],
   "source": [
    "import matplotlib.pyplot as plt\n",
    "import numpy as np\n",
    "import sys"
   ]
  },
  {
   "cell_type": "markdown",
   "metadata": {},
   "source": [
    "### PSO implementation"
   ]
  },
  {
   "cell_type": "code",
   "execution_count": 19,
   "metadata": {},
   "outputs": [],
   "source": [
    "class PSO:\n",
    "    def __init__(self, particles, velocities, fitness_func,\n",
    "                 w=0.8, c1=1, c2=1, max_iter=100, auto_coef=True):\n",
    "        \"\"\"\n",
    "        Args:\n",
    "            particles (numpy array): Particle position. (#Particle, #Feature)\n",
    "            velocities (numpy array): Particle velocity. (#Particle, #Feature)\n",
    "            fitness_func (function): Fitness function.\n",
    "            w/c1/c2 (float): PSO hyperparameter.\n",
    "            max_iter (int): Max iteration for PSO.\n",
    "            auto_coef (bool): Enable automatic hyperparameter update.\n",
    "        \n",
    "        \"\"\"\n",
    "        # Initialization\n",
    "        self.particles = particles\n",
    "        self.velocities = velocities\n",
    "        self.fitness_func = fitness_func\n",
    "\n",
    "        self.N = len(self.particles)\n",
    "        self.w = w\n",
    "        self.c1 = c1\n",
    "        self.c2 = c2\n",
    "        self.auto_coef = auto_coef\n",
    "        self.max_iter = max_iter\n",
    "\n",
    "        # Initialize personal / global best\n",
    "        self.p_bests = self.particles\n",
    "        self.p_bests_values = self.fitness_func(self.particles)\n",
    "        self.g_best = self.p_bests[0]\n",
    "        self.g_best_value = self.p_bests_values[0]\n",
    "        self.update_bests()\n",
    "\n",
    "        # Initialize hyperparameter\n",
    "        self.iter = 0\n",
    "        self.is_running = True\n",
    "        self.update_coef()\n",
    "\n",
    "    def next(self):\n",
    "        # PSO flow\n",
    "        self.move_particles()\n",
    "        self.update_bests()\n",
    "        self.update_coef()\n",
    "\n",
    "        # Iteration counter\n",
    "        self.iter += 1\n",
    "        self.is_running = self.is_running and self.iter < self.max_iter\n",
    "    \n",
    "        return self.is_running\n",
    "\n",
    "    def update_coef(self):\n",
    "        if self.auto_coef:\n",
    "            self.w = (0.4 / self.max_iter**2) * (self.iter - self.max_iter) ** 2 + 0.4\n",
    "            self.c1 = -3 * self.iter / self.max_iter + 3.5\n",
    "            self.c2 =  3 * self.iter / self.max_iter + 0.5\n",
    "\n",
    "    def move_particles(self):\n",
    "        # Inertia Component\n",
    "        new_velocities = self.w * self.velocities\n",
    "    \n",
    "        # Cognitive Component\n",
    "        r1 = np.random.random(self.N)\n",
    "        r1 = np.tile(r1[:, np.newaxis], (1, self.particles.shape[-1]))\n",
    "        new_velocities += r1 * self.c1 * (self.p_bests - self.particles)\n",
    "\n",
    "        # Social Component\n",
    "        r2 = np.random.random(self.N)\n",
    "        r2 = np.tile(r2[:, np.newaxis], (1, self.particles.shape[-1]))\n",
    "        g_best = np.tile(self.g_best[np.newaxis, :], (self.N, 1))\n",
    "        new_velocities += r2 * self.c2 * (g_best - self.particles)\n",
    "\n",
    "        # Check termination condition \n",
    "        self.is_running = np.sum(self.velocities - new_velocities) != 0\n",
    "\n",
    "        # Update position and velocity\n",
    "        self.particles += new_velocities\n",
    "        self.velocities = new_velocities\n",
    "\n",
    "    def update_bests(self):\n",
    "        # Compute fitness of each particle\n",
    "        fits = self.fitness_func(self.particles)\n",
    "\n",
    "        # Find best particle position (personal and global)\n",
    "        for i in range(self.N):\n",
    "            # update best personnal value (cognitive)\n",
    "            if fits[i] < self.p_bests_values[i]:\n",
    "                self.p_bests_values[i] = fits[i]\n",
    "                self.p_bests[i] = self.particles[i]\n",
    "\n",
    "            # update best global value (social)\n",
    "            if fits[i] < self.g_best_value:\n",
    "                self.g_best_value = fits[i]\n",
    "                self.g_best = self.particles[i]"
   ]
  },
  {
   "cell_type": "markdown",
   "metadata": {},
   "source": [
    "### Parameter"
   ]
  },
  {
   "cell_type": "code",
   "execution_count": 20,
   "metadata": {},
   "outputs": [],
   "source": [
    "N_PARTICLE = 100\n",
    "PSO_PARAM_W = 0.1\n",
    "PSO_PARAM_C1 = 4.0\n",
    "PSO_PARAM_C2 = 0.0"
   ]
  },
  {
   "cell_type": "markdown",
   "metadata": {},
   "source": [
    "### Data Preparation"
   ]
  },
  {
   "cell_type": "code",
   "execution_count": 21,
   "metadata": {},
   "outputs": [],
   "source": [
    "# Search Space\n",
    "X = np.arange(-5, 5, 0.05)\n",
    "Y = np.arange(-5, 5, 0.05)\n",
    "meshgrid = np.meshgrid(X, Y)"
   ]
  },
  {
   "cell_type": "code",
   "execution_count": 22,
   "metadata": {},
   "outputs": [],
   "source": [
    "# Fitness function\n",
    "f = lambda x, y: x ** 2 + (y + 1) ** 2 - 5 * np.cos(1.5 * x + 1.5) - 5 * np.cos(2 * y - 1.5)\n",
    "\n",
    "def fitness_function(pos):\n",
    "    x, y = pos.swapaxes(0, 1)\n",
    "    return f(x, y)"
   ]
  },
  {
   "cell_type": "code",
   "execution_count": 23,
   "metadata": {},
   "outputs": [],
   "source": [
    "# Particle position / velocity initialization\n",
    "particles = np.random.uniform(-5, 5, (N_PARTICLE, 2))\n",
    "velocities = (np.random.random((N_PARTICLE, 2)) - 0.5) / 10"
   ]
  },
  {
   "cell_type": "markdown",
   "metadata": {},
   "source": [
    "### Run PSO"
   ]
  },
  {
   "cell_type": "code",
   "execution_count": 38,
   "metadata": {},
   "outputs": [],
   "source": [
    "pso = PSO(particles.copy(), velocities.copy(), fitness_function,\n",
    "          PSO_PARAM_W, PSO_PARAM_C1, PSO_PARAM_C2, True)"
   ]
  },
  {
   "cell_type": "code",
   "execution_count": 46,
   "metadata": {},
   "outputs": [
    {
     "data": {
      "image/png": "[encoded data removed]",
      "text/plain": [
       "<Figure size 432x288 with 1 Axes>"
      ]
     },
     "metadata": {
      "needs_background": "light"
     },
     "output_type": "display_data"
    }
   ],
   "source": [
    "pso.next()\n",
    "plt.plot(pso.particles[:, 0], pso.particles[:, 1], 'o')\n",
    "plt.xlim([X[0], X[-1]])\n",
    "plt.ylim([Y[0], Y[-1]])\n",
    "plt.show()"
   ]
  },
  {
   "cell_type": "code",
   "execution_count": null,
   "metadata": {},
   "outputs": [],
   "source": []
  }
 ],
 "metadata": {
  "kernelspec": {
   "display_name": "Python 3",
   "language": "python",
   "name": "python3"
  },
  "language_info": {
   "codemirror_mode": {
    "name": "ipython",
    "version": 3
   },
   "file_extension": ".py",
   "mimetype": "text/x-python",
   "name": "python",
   "nbconvert_exporter": "python",
   "pygments_lexer": "ipython3",
   "version": "3.7.6"
  }
 },
 "nbformat": 4,
 "nbformat_minor": 4
}
