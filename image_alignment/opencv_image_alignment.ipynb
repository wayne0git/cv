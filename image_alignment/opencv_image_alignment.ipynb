{
 "cells": [
  {
   "cell_type": "markdown",
   "metadata": {},
   "source": [
    "## Image Alignment Based On OpenCV\n",
    "- Ref : https://www.pyimagesearch.com/2020/08/31/image-alignment-and-registration-with-opencv/"
   ]
  },
  {
   "cell_type": "markdown",
   "metadata": {},
   "source": [
    "### Flow\n",
    "1. Keypoint Detection on two input images\n",
    "2. Estimate homography matrix\n",
    "3. Apply perspective warping"
   ]
  },
  {
   "cell_type": "markdown",
   "metadata": {},
   "source": [
    "### Import"
   ]
  },
  {
   "cell_type": "code",
   "execution_count": 14,
   "metadata": {},
   "outputs": [],
   "source": [
    "import cv2\n",
    "import numpy as np\n",
    "\n",
    "from matplotlib import pyplot as plt"
   ]
  },
  {
   "cell_type": "markdown",
   "metadata": {},
   "source": [
    "### Parameters"
   ]
  },
  {
   "cell_type": "code",
   "execution_count": 35,
   "metadata": {},
   "outputs": [],
   "source": [
    "TEMPLATE_FPATH = 'template.png'\n",
    "SAMPLE_FPATH = 'scan_01.jpg'\n",
    "RESIZE_RATIO = 0.5\n",
    "\n",
    "MAX_KEYPOINT_NUM = 500\n",
    "KEEP_PERC = 0.2"
   ]
  },
  {
   "cell_type": "markdown",
   "metadata": {},
   "source": [
    "### Load Image"
   ]
  },
  {
   "cell_type": "code",
   "execution_count": 36,
   "metadata": {},
   "outputs": [],
   "source": [
    "# Read Image\n",
    "img_sample = cv2.imread(SAMPLE_FPATH)\n",
    "img_template = cv2.imread(TEMPLATE_FPATH)"
   ]
  },
  {
   "cell_type": "code",
   "execution_count": 37,
   "metadata": {},
   "outputs": [],
   "source": [
    "# Resize (Only to Make Image Size Smaller)\n",
    "img_sample = cv2.resize(img_sample, (int(img_sample.shape[1] * RESIZE_RATIO), int(img_sample.shape[0] * RESIZE_RATIO)))\n",
    "img_template = cv2.resize(img_template, (int(img_template.shape[1] * RESIZE_RATIO), int(img_template.shape[0] * RESIZE_RATIO)))"
   ]
  },
  {
   "cell_type": "markdown",
   "metadata": {},
   "source": [
    "### Preprocessing"
   ]
  },
  {
   "cell_type": "code",
   "execution_count": 38,
   "metadata": {},
   "outputs": [],
   "source": [
    "# BGR To Grayscale\n",
    "gray_sample = cv2.cvtColor(img_sample, cv2.COLOR_BGR2GRAY)\n",
    "gray_template = cv2.cvtColor(img_template, cv2.COLOR_BGR2GRAY)"
   ]
  },
  {
   "cell_type": "markdown",
   "metadata": {},
   "source": [
    "### Keypoint Detection and Description (Oriented Fast and Rotated BRIEF, ORB)"
   ]
  },
  {
   "cell_type": "code",
   "execution_count": 39,
   "metadata": {},
   "outputs": [],
   "source": [
    "# Initialize ORB keypoint detector and descriptor\n",
    "orb = cv2.ORB_create(MAX_KEYPOINT_NUM)"
   ]
  },
  {
   "cell_type": "code",
   "execution_count": 40,
   "metadata": {},
   "outputs": [],
   "source": [
    "# Keypoint Detect / Description (None for no image mask)\n",
    "# Keypoint -- List of KeyPoint objects\n",
    "# Description -- Numpy array (#Keypoints, 32) (256-bit descriptor)\n",
    "kps_s, desc_s = orb.detectAndCompute(gray_sample, None)\n",
    "kps_t, desc_t = orb.detectAndCompute(gray_template, None)"
   ]
  },
  {
   "cell_type": "markdown",
   "metadata": {},
   "source": [
    "### Keypoint Matching"
   ]
  },
  {
   "cell_type": "code",
   "execution_count": 41,
   "metadata": {},
   "outputs": [],
   "source": [
    "# Initialize Keypoint Descriptor Matcher\n",
    "# Use Hamming distance due to ORB is a binary descriptor\n",
    "matcher = cv2.DescriptorMatcher_create(cv2.DESCRIPTOR_MATCHER_BRUTEFORCE_HAMMING)"
   ]
  },
  {
   "cell_type": "code",
   "execution_count": 42,
   "metadata": {},
   "outputs": [],
   "source": [
    "# Keypoint Matching\n",
    "# Matches -- List of DMatch objects\n",
    "matches = matcher.match(desc_s, desc_t, None)"
   ]
  },
  {
   "cell_type": "code",
   "execution_count": 43,
   "metadata": {},
   "outputs": [],
   "source": [
    "# Keep only top matching result\n",
    "matches = sorted(matches, key=lambda x: x.distance)\n",
    "matches = matches[:int(len(matches) * KEEP_PERC)]"
   ]
  },
  {
   "cell_type": "markdown",
   "metadata": {},
   "source": [
    "### Estimate Homography Matrix"
   ]
  },
  {
   "cell_type": "code",
   "execution_count": 45,
   "metadata": {},
   "outputs": [],
   "source": [
    "# Get Matched Keypoint Coodinates\n",
    "pts_s = np.zeros((len(matches), 2), dtype=np.float)\n",
    "pts_t = np.zeros((len(matches), 2), dtype=np.float)\n",
    "\n",
    "for mid, match in enumerate(matches):\n",
    "    pts_s[mid] = kps_s[match.queryIdx].pt\n",
    "    pts_t[mid] = kps_t[match.trainIdx].pt    "
   ]
  },
  {
   "cell_type": "code",
   "execution_count": 50,
   "metadata": {},
   "outputs": [],
   "source": [
    "# Compute Homography Matrix based on RANSAC\n",
    "H, mask = cv2.findHomography(pts_s, pts_t, cv2.RANSAC)"
   ]
  },
  {
   "cell_type": "markdown",
   "metadata": {},
   "source": [
    "### Perspective Warping"
   ]
  },
  {
   "cell_type": "code",
   "execution_count": 52,
   "metadata": {},
   "outputs": [],
   "source": [
    "img_aligned = cv2.warpPerspective(img_sample, H, (img_template.shape[1], img_template.shape[0]))"
   ]
  },
  {
   "cell_type": "markdown",
   "metadata": {},
   "source": [
    "### Visualization"
   ]
  },
  {
   "cell_type": "code",
   "execution_count": null,
   "metadata": {
    "scrolled": true
   },
   "outputs": [],
   "source": [
    "# Result -- Top-10 Keypoint Matching\n",
    "img_match_vis = cv2.drawMatches(img_sample, kps_s, img_template, kps_t, matches[:10], None)\n",
    "\n",
    "fig = plt.figure(figsize=(10, 10))\n",
    "plt.imshow(img_match_vis)"
   ]
  },
  {
   "cell_type": "code",
   "execution_count": null,
   "metadata": {
    "scrolled": true
   },
   "outputs": [],
   "source": [
    "# Result -- Alignment\n",
    "fig = plt.figure(figsize=(10, 24))\n",
    "plt.imshow(np.hstack([img_template, img_aligned]))"
   ]
  },
  {
   "cell_type": "code",
   "execution_count": null,
   "metadata": {},
   "outputs": [],
   "source": []
  }
 ],
 "metadata": {
  "kernelspec": {
   "display_name": "Python 3",
   "language": "python",
   "name": "python3"
  },
  "language_info": {
   "codemirror_mode": {
    "name": "ipython",
    "version": 3
   },
   "file_extension": ".py",
   "mimetype": "text/x-python",
   "name": "python",
   "nbconvert_exporter": "python",
   "pygments_lexer": "ipython3",
   "version": "3.7.6"
  }
 },
 "nbformat": 4,
 "nbformat_minor": 4
}
