{
 "cells": [
  {
   "cell_type": "markdown",
   "metadata": {},
   "source": [
    "## Age Estimation Using Deep Learning\n",
    "- https://www.pyimagesearch.com/2020/04/13/opencv-age-detection-with-deep-learning/\n",
    "- Age and Gender Classification Using Convolutional Neural Networks, Levi & Hassner, 2015"
   ]
  },
  {
   "cell_type": "code",
   "execution_count": 14,
   "metadata": {},
   "outputs": [],
   "source": [
    "import cv2\n",
    "import os\n",
    "import numpy as np"
   ]
  },
  {
   "cell_type": "code",
   "execution_count": 1,
   "metadata": {},
   "outputs": [],
   "source": [
    "# Constant\n",
    "AGE_BUCKETS = ['(0-2)', '(4-6)', '(8-12)', '(15-20)',\n",
    "               '(25-32)', '(38-43)', '(48-53)', '(60-100)']"
   ]
  },
  {
   "cell_type": "code",
   "execution_count": 3,
   "metadata": {},
   "outputs": [],
   "source": [
    "# Parameter (Models)\n",
    "FACE_DETECTOR_FPATH = ['face_detector/deploy.prototxt',\n",
    "                       'face_detector/res10_300x300_ssd_iter_140000.caffemodel']\n",
    "AGE_ESTIMATOR_FPATH = ['age_estimator/age_deploy.prototxt',\n",
    "                       'age_estimator/age_net.caffemodel']"
   ]
  },
  {
   "cell_type": "code",
   "execution_count": 11,
   "metadata": {},
   "outputs": [],
   "source": [
    "# Parameter\n",
    "CONF_TH = 0.5"
   ]
  },
  {
   "cell_type": "code",
   "execution_count": 20,
   "metadata": {},
   "outputs": [],
   "source": [
    "# Face detection\n",
    "def detect_face(model, frame, conf_th):\n",
    "    # Preprocess\n",
    "    blob = cv2.dnn.blobFromImage(frame, 1.0, (300, 300), (104.0, 177.0, 123.0))\n",
    "\n",
    "    # Inference\n",
    "    model.setInput(blob)\n",
    "    detections = model.forward()\n",
    "\n",
    "    # loop over the detections\n",
    "    h, w = frame.shape[:2]\n",
    "    boxes = []\n",
    "    for i in range(0, detections.shape[2]):\n",
    "        # Confidence threshold\n",
    "        if detections[0, 0, i, 2] > conf_th:\n",
    "            # Limit bounding box coordinates\n",
    "            detections[0, 0, i, 3:7] = np.maximum(detections[0, 0, i, 3:7], 0)\n",
    "            detections[0, 0, i, 3:7] = np.minimum(detections[0, 0, i, 3:7], 1)\n",
    "            \n",
    "            # compute bounding box coordinates (x1, y1, x2, y2)\n",
    "            box = detections[0, 0, i, 3:7] * np.array([w, h, w, h])\n",
    "            boxes.append(box.astype(\"int\"))\n",
    "\n",
    "    return boxes"
   ]
  },
  {
   "cell_type": "code",
   "execution_count": 17,
   "metadata": {},
   "outputs": [],
   "source": [
    "# Age Estimation\n",
    "def estimate_age(model, frame, boxes):\n",
    "    # Process each bounding box\n",
    "    ages = []\n",
    "    for box in boxes:\n",
    "        # Crop\n",
    "        startX, startY, endX, endY = box\n",
    "        face = frame[startY:endY, startX:endX, :]\n",
    "\n",
    "        # Preprocess\n",
    "        blob = cv2.dnn.blobFromImage(face, 1.0, (227, 227), (78.43, 87.77, 114.90))\n",
    "\n",
    "        # Inference\n",
    "        model.setInput(blob)\n",
    "        preds = model.forward()\n",
    "\n",
    "        # find age bucket with maximum probability\n",
    "        i = preds[0].argmax()\n",
    "        age = AGE_BUCKETS[i]\n",
    "        ageConfidence = preds[0][i]\n",
    "        ages.append((age, ageConfidence))\n",
    "\n",
    "    return ages    "
   ]
  },
  {
   "cell_type": "code",
   "execution_count": 4,
   "metadata": {},
   "outputs": [],
   "source": [
    "# Load Model\n",
    "faceNet = cv2.dnn.readNet(FACE_DETECTOR_FPATH[0], FACE_DETECTOR_FPATH[1])\n",
    "ageNet = cv2.dnn.readNet(AGE_ESTIMATOR_FPATH[0], AGE_ESTIMATOR_FPATH[1])"
   ]
  },
  {
   "cell_type": "code",
   "execution_count": 9,
   "metadata": {},
   "outputs": [],
   "source": [
    "# Open Camera\n",
    "cap = cv2.VideoCapture(0)"
   ]
  },
  {
   "cell_type": "code",
   "execution_count": 21,
   "metadata": {},
   "outputs": [],
   "source": [
    "# Age estimation on video stream\n",
    "cv2.namedWindow('Result', cv2.WINDOW_NORMAL)\n",
    "\n",
    "while True:\n",
    "    # Read frame\n",
    "    ret, frame = cap.read()\n",
    "    if not ret:\n",
    "        break\n",
    "\n",
    "    # Face detection (x1, y1, x2, y2)\n",
    "    boxes = detect_face(faceNet, frame, CONF_TH)\n",
    "\n",
    "    # Age estimation (Age Bucket, Prob.)\n",
    "    ages = estimate_age(ageNet, frame, boxes)\n",
    "\n",
    "    # Overlay\n",
    "    for box, age in zip(boxes, ages):\n",
    "        cv2.rectangle(frame, (box[0], box[1]), (box[2], box[3]), (0, 0, 255), 1)\n",
    "        cv2.putText(frame, '%s: %.2f' % (age[0], age[1]), (box[0], box[1]),\n",
    "                    cv2.FONT_HERSHEY_SIMPLEX, 1, (0, 0, 255), 2)\n",
    "\n",
    "    # Show result\n",
    "    cv2.imshow('Result', frame)\n",
    "    if cv2.waitKey(1) == 27:\n",
    "        break\n",
    "\n",
    "cv2.destroyAllWindows()"
   ]
  },
  {
   "cell_type": "code",
   "execution_count": null,
   "metadata": {},
   "outputs": [],
   "source": []
  }
 ],
 "metadata": {
  "kernelspec": {
   "display_name": "Python 3",
   "language": "python",
   "name": "python3"
  },
  "language_info": {
   "codemirror_mode": {
    "name": "ipython",
    "version": 3
   },
   "file_extension": ".py",
   "mimetype": "text/x-python",
   "name": "python",
   "nbconvert_exporter": "python",
   "pygments_lexer": "ipython3",
   "version": "3.5.5"
  }
 },
 "nbformat": 4,
 "nbformat_minor": 2
}
