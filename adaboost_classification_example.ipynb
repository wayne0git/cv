{
  "nbformat": 4,
  "nbformat_minor": 0,
  "metadata": {
    "colab": {
      "name": "adaboost_classification_example.ipynb",
      "provenance": [],
      "authorship_tag": "ABX9TyOwwS/cB8H5dBVZT34rcz5N",
      "include_colab_link": true
    },
    "kernelspec": {
      "name": "python3",
      "display_name": "Python 3"
    }
  },
  "cells": [
    {
      "cell_type": "markdown",
      "metadata": {
        "id": "view-in-github",
        "colab_type": "text"
      },
      "source": [
        "<a href=\"https://colab.research.google.com/github/wayne0git/ml_cv_basics/blob/master/adaboost_classification_example.ipynb\" target=\"_parent\"><img src=\"https://colab.research.google.com/assets/colab-badge.svg\" alt=\"Open In Colab\"/></a>"
      ]
    },
    {
      "cell_type": "markdown",
      "metadata": {
        "id": "CbwaLdPJnknC"
      },
      "source": [
        "## Adaboost Classification Example\n",
        "Ref -- https://machinelearningmastery.com/adaboost-ensemble-in-python/"
      ]
    },
    {
      "cell_type": "markdown",
      "metadata": {
        "id": "tsjgormVnuoI"
      },
      "source": [
        "### Package Information"
      ]
    },
    {
      "cell_type": "code",
      "metadata": {
        "id": "jiVk-edNnja9"
      },
      "source": [
        "import numpy as np\n",
        "import sklearn\n",
        "\n",
        "from matplotlib import pyplot as plt\n",
        "from sklearn.datasets import make_classification\n",
        "from sklearn.ensemble import AdaBoostClassifier\n",
        "from sklearn.metrics import classification_report\n",
        "from sklearn.model_selection import train_test_split, RepeatedStratifiedKFold, GridSearchCV"
      ],
      "execution_count": 51,
      "outputs": []
    },
    {
      "cell_type": "code",
      "metadata": {
        "colab": {
          "base_uri": "https://localhost:8080/"
        },
        "id": "BYaGJJarnnzO",
        "outputId": "cb27c521-8945-4b92-97d9-6323583026af"
      },
      "source": [
        "np.__version__, sklearn.__version__"
      ],
      "execution_count": 13,
      "outputs": [
        {
          "output_type": "execute_result",
          "data": {
            "text/plain": [
              "('1.18.5', '0.22.2.post1')"
            ]
          },
          "metadata": {
            "tags": []
          },
          "execution_count": 13
        }
      ]
    },
    {
      "cell_type": "markdown",
      "metadata": {
        "id": "wMqTLoKLon7P"
      },
      "source": [
        "### Constant / Parameter"
      ]
    },
    {
      "cell_type": "code",
      "metadata": {
        "id": "-KYBm1CZosNP"
      },
      "source": [
        "SEED = 0\n",
        "\n",
        "# Data\n",
        "DATA_N_SAMPLE = 1000\n",
        "DATA_N_CLASS = 2\n",
        "DATA_N_FEATURE = 20\n",
        "DATA_N_INFO = 15                    # Gaussian clusters\n",
        "DATA_N_REDUNANT = DATA_N_FEATURE - DATA_N_INFO   # Random\n",
        "DATA_SPLIT = 0.2                    # Train / Test Split.\n",
        "\n",
        "# Cross validation\n",
        "CV_SPLIT = 5\n",
        "CV_REPEAT = 2\n",
        "\n",
        "# Model hyperparameters\n",
        "HP_MODEL_N_EST = [10, 50, 100]\n",
        "HP_MODEL_LR = [0.0001, 0.001, 0.01]"
      ],
      "execution_count": 46,
      "outputs": []
    },
    {
      "cell_type": "markdown",
      "metadata": {
        "id": "LvTSZwcVojDo"
      },
      "source": [
        "### Data Preparation"
      ]
    },
    {
      "cell_type": "code",
      "metadata": {
        "id": "Qunc37RDobqz"
      },
      "source": [
        "# Create a synthetic binary classification problem\n",
        "# x: (#Data, #Feature), y: (#Data, )\n",
        "x, y = make_classification(n_samples=DATA_N_SAMPLE,\n",
        "               n_features=DATA_N_FEATURE,\n",
        "               n_informative=DATA_N_INFO,\n",
        "               n_redundant=DATA_N_REDUNANT,\n",
        "               n_classes=DATA_N_CLASS, random_state=SEED)"
      ],
      "execution_count": 8,
      "outputs": []
    },
    {
      "cell_type": "code",
      "metadata": {
        "id": "gvJ0XXZJvB0-"
      },
      "source": [
        "# Train / Test Set Split\n",
        "x_train, x_test, y_train, y_test = train_test_split(x, y, test_size=DATA_SPLIT)"
      ],
      "execution_count": 40,
      "outputs": []
    },
    {
      "cell_type": "markdown",
      "metadata": {
        "id": "zOWesqrKqRqY"
      },
      "source": [
        "### Create Model"
      ]
    },
    {
      "cell_type": "code",
      "metadata": {
        "id": "SZ54Zg2vp3ho"
      },
      "source": [
        "model = AdaBoostClassifier(n_estimators=10)"
      ],
      "execution_count": 96,
      "outputs": []
    },
    {
      "cell_type": "markdown",
      "metadata": {
        "id": "_itnfOKEqi9g"
      },
      "source": [
        "### Train Model"
      ]
    },
    {
      "cell_type": "code",
      "metadata": {
        "colab": {
          "base_uri": "https://localhost:8080/"
        },
        "id": "HegnswAGsy03",
        "outputId": "14a18d0c-8a8f-4369-c248-4baae32fd043"
      },
      "source": [
        "model.fit(x_train, y_train)"
      ],
      "execution_count": 97,
      "outputs": [
        {
          "output_type": "execute_result",
          "data": {
            "text/plain": [
              "AdaBoostClassifier(algorithm='SAMME.R', base_estimator=None, learning_rate=1.0,\n",
              "                   n_estimators=10, random_state=None)"
            ]
          },
          "metadata": {
            "tags": []
          },
          "execution_count": 97
        }
      ]
    },
    {
      "cell_type": "markdown",
      "metadata": {
        "id": "CHV3tN9WzwcP"
      },
      "source": [
        "### Examine Model (Assume depth-1 decision tree as base estimator)"
      ]
    },
    {
      "cell_type": "code",
      "metadata": {
        "colab": {
          "base_uri": "https://localhost:8080/"
        },
        "id": "ywsbjcBOz2Et",
        "outputId": "38805672-e195-4cc3-85ee-7dd4b0b340ff"
      },
      "source": [
        "# Adaboost consists of many weak learners (e.g. decision trees)\n",
        "model.n_estimators, model.estimators_[0]"
      ],
      "execution_count": 98,
      "outputs": [
        {
          "output_type": "execute_result",
          "data": {
            "text/plain": [
              "(10, DecisionTreeClassifier(ccp_alpha=0.0, class_weight=None, criterion='gini',\n",
              "                        max_depth=1, max_features=None, max_leaf_nodes=None,\n",
              "                        min_impurity_decrease=0.0, min_impurity_split=None,\n",
              "                        min_samples_leaf=1, min_samples_split=2,\n",
              "                        min_weight_fraction_leaf=0.0, presort='deprecated',\n",
              "                        random_state=1405320648, splitter='best'))"
            ]
          },
          "metadata": {
            "tags": []
          },
          "execution_count": 98
        }
      ]
    },
    {
      "cell_type": "code",
      "metadata": {
        "colab": {
          "base_uri": "https://localhost:8080/"
        },
        "id": "a2nDypUW0NAF",
        "outputId": "1958912b-b8c5-4ccb-ff7b-137ab6de7936"
      },
      "source": [
        "# Each decision tree makes its own decision\n",
        "dt0 = model.estimators_[0]\n",
        "\n",
        "print('Predicted Node Index of 1st tree: %s' % str(dt0.apply(x_test[:2])))\n",
        "print('Predicted Class of 1st tree: %s' % str(dt0.predict(x_test[:2])))\n",
        "print('Real Class: %s' % str(y_test[:2]))"
      ],
      "execution_count": 99,
      "outputs": [
        {
          "output_type": "stream",
          "text": [
            "Predicted Node Index of 1st tree: [1 2]\n",
            "Predicted Class of 1st tree: [1 0]\n",
            "Real Class: [0 1]\n"
          ],
          "name": "stdout"
        }
      ]
    },
    {
      "cell_type": "code",
      "metadata": {
        "colab": {
          "base_uri": "https://localhost:8080/"
        },
        "id": "P8ARWLgv2BC1",
        "outputId": "6379e345-df90-490c-dd54-1e9313d7ca46"
      },
      "source": [
        "# The tree decides based on the selected feature and threshold\n",
        "# -2 => No condition in leaf nodess\n",
        "print('Selected feature index of 1st tree: %s' % str(dt0.tree_.feature))\n",
        "print('Threshold value of 1st tree: %s' % str(dt0.tree_.threshold))\n",
        "print('Selected feature values of test data: %s' % str(x_test[:2, dt0.tree_.feature[0]]))"
      ],
      "execution_count": 100,
      "outputs": [
        {
          "output_type": "stream",
          "text": [
            "Selected feature index of 1st tree: [12 -2 -2]\n",
            "Threshold value of 1st tree: [-0.1868474 -2.        -2.       ]\n",
            "Selected feature values of test data: [-0.4497535  0.5389624]\n"
          ],
          "name": "stdout"
        }
      ]
    },
    {
      "cell_type": "code",
      "metadata": {
        "colab": {
          "base_uri": "https://localhost:8080/"
        },
        "id": "_s6PGcCp5fZv",
        "outputId": "922e2f69-8bec-447b-d79f-7a3f08b7f54d"
      },
      "source": [
        "# The weight of each node is determined from the node value\n",
        "for eid, dt in enumerate(model.estimators_):\n",
        "    proba_n = np.squeeze(dt.tree_.value / dt.tree_.value.sum(axis=2)[..., np.newaxis])\n",
        "    log_proba = np.log(np.clip(proba_n, np.finfo(proba_n.dtype).eps, None))\n",
        "    print('Tree %d' % eid, (log_proba - log_proba.mean(axis=1)[:, np.newaxis])[:, 0] * 2 * (-1))"
      ],
      "execution_count": 144,
      "outputs": [
        {
          "output_type": "stream",
          "text": [
            "Tree 0 [-0.05001042  0.6883739  -0.52181475]\n",
            "Tree 1 [-8.43769499e-15  4.94454374e-01 -4.10169817e-01]\n",
            "Tree 2 [ 1.08801856e-14 -3.14901529e-01  7.53800978e-01]\n",
            "Tree 3 [ 2.22044605e-15  2.38192099e-01 -9.75368027e-01]\n",
            "Tree 4 [-5.55111512e-15 -2.13241004e+00  1.04391983e-01]\n",
            "Tree 5 [ 5.77315973e-15 -9.00237898e-01  1.83895752e-01]\n",
            "Tree 6 [ 2.66453526e-15  1.39904777e+00 -9.60547230e-02]\n",
            "Tree 7 [-1.33226763e-15 -2.41762217e-01  5.73074365e-01]\n",
            "Tree 8 [ 3.55271368e-15  6.19821255e-01 -2.24205384e-01]\n",
            "Tree 9 [-1.11022302e-15 -2.94084426e-01  4.02090358e-01]\n"
          ],
          "name": "stdout"
        }
      ]
    },
    {
      "cell_type": "code",
      "metadata": {
        "colab": {
          "base_uri": "https://localhost:8080/"
        },
        "id": "hgmW2LXe_BmL",
        "outputId": "81f76c13-13c8-44fb-ae90-01d3598a9e1a"
      },
      "source": [
        "# Final Adabost decision value can be computed from summing the decision tree results\n",
        "decision_value_sum = 0\n",
        "for eid, dt in enumerate(model.estimators_):\n",
        "    log_proba = dt.predict_log_proba(x_test[:1])\n",
        "    leaf_val = (log_proba - log_proba.mean(axis=1)[:, np.newaxis])[0, 0] * 2 * (-1)\n",
        "    decision_value_sum += leaf_val\n",
        "    print('Tree %d, Leaf Val: %.2f, Decision Val: %.2f' % (eid, leaf_val, decision_value_sum / (eid + 1)))"
      ],
      "execution_count": 146,
      "outputs": [
        {
          "output_type": "stream",
          "text": [
            "Tree 0, Leaf Val: 0.69, Decision Val: 0.69\n",
            "Tree 1, Leaf Val: 0.49, Decision Val: 0.59\n",
            "Tree 2, Leaf Val: 0.75, Decision Val: 0.65\n",
            "Tree 3, Leaf Val: 0.24, Decision Val: 0.54\n",
            "Tree 4, Leaf Val: 0.10, Decision Val: 0.46\n",
            "Tree 5, Leaf Val: 0.18, Decision Val: 0.41\n",
            "Tree 6, Leaf Val: -0.10, Decision Val: 0.34\n",
            "Tree 7, Leaf Val: -0.24, Decision Val: 0.27\n",
            "Tree 8, Leaf Val: 0.62, Decision Val: 0.31\n",
            "Tree 9, Leaf Val: 0.40, Decision Val: 0.31\n"
          ],
          "name": "stdout"
        }
      ]
    },
    {
      "cell_type": "code",
      "metadata": {
        "colab": {
          "base_uri": "https://localhost:8080/"
        },
        "id": "oTU-8pKu9Rf8",
        "outputId": "1bf97a69-608b-4b5c-f530-87f111ebdf0e"
      },
      "source": [
        "# The final decision value depends on the weighted value of all decision trees\n",
        "model.decision_function(x_test[:1]), list(model.staged_decision_function(x_test[:1]))"
      ],
      "execution_count": 142,
      "outputs": [
        {
          "output_type": "execute_result",
          "data": {
            "text/plain": [
              "(array([0.31472038]),\n",
              " [array([0.6883739]),\n",
              "  array([0.59141414]),\n",
              "  array([0.64554308]),\n",
              "  array([0.54370534]),\n",
              "  array([0.45584267]),\n",
              "  array([0.41051818]),\n",
              "  array([0.33815062]),\n",
              "  array([0.26566152]),\n",
              "  array([0.3050126]),\n",
              "  array([0.31472038])])"
            ]
          },
          "metadata": {
            "tags": []
          },
          "execution_count": 142
        }
      ]
    },
    {
      "cell_type": "markdown",
      "metadata": {
        "id": "OSB3jW27s1EV"
      },
      "source": [
        "### Hyperparameter Optimization"
      ]
    },
    {
      "cell_type": "code",
      "metadata": {
        "id": "hil2uF1dqbp8"
      },
      "source": [
        "# Repeats cross validation for n times with different randomization\n",
        "cv = RepeatedStratifiedKFold(n_splits=CV_SPLIT, n_repeats=CV_REPEAT, random_state=SEED)"
      ],
      "execution_count": 43,
      "outputs": []
    },
    {
      "cell_type": "code",
      "metadata": {
        "id": "yJNO6yGvwEuI"
      },
      "source": [
        "# Grid search\n",
        "params_grid = {}\n",
        "params_grid['n_estimators'] = HP_MODEL_N_EST\n",
        "params_grid['learning_rate'] = HP_MODEL_LR\n",
        "\n",
        "clf = GridSearchCV(model, params_grid, n_jobs=-1, cv=cv, scoring='accuracy', verbose=2)\n",
        "clf.fit(x_train, y_train)"
      ],
      "execution_count": null,
      "outputs": []
    },
    {
      "cell_type": "code",
      "metadata": {
        "colab": {
          "base_uri": "https://localhost:8080/"
        },
        "id": "TRvc6tgkzN1m",
        "outputId": "5383b2fe-d611-4b18-89b2-4b7d092ec606"
      },
      "source": [
        "clf.cv_results_['params']"
      ],
      "execution_count": 66,
      "outputs": [
        {
          "output_type": "execute_result",
          "data": {
            "text/plain": [
              "[{'learning_rate': 0.0001, 'n_estimators': 10},\n",
              " {'learning_rate': 0.0001, 'n_estimators': 50},\n",
              " {'learning_rate': 0.0001, 'n_estimators': 100},\n",
              " {'learning_rate': 0.001, 'n_estimators': 10},\n",
              " {'learning_rate': 0.001, 'n_estimators': 50},\n",
              " {'learning_rate': 0.001, 'n_estimators': 100},\n",
              " {'learning_rate': 0.01, 'n_estimators': 10},\n",
              " {'learning_rate': 0.01, 'n_estimators': 50},\n",
              " {'learning_rate': 0.01, 'n_estimators': 100}]"
            ]
          },
          "metadata": {
            "tags": []
          },
          "execution_count": 66
        }
      ]
    },
    {
      "cell_type": "code",
      "metadata": {
        "colab": {
          "base_uri": "https://localhost:8080/",
          "height": 283
        },
        "id": "OqEMcDo6wzzP",
        "outputId": "da4bb673-ee11-4825-8afc-6f450b546702"
      },
      "source": [
        "plt.errorbar(np.arange(clf.cv_results_['mean_test_score'].size),\n",
        "       clf.cv_results_['mean_test_score'],\n",
        "       clf.cv_results_['std_test_score'])"
      ],
      "execution_count": 65,
      "outputs": [
        {
          "output_type": "execute_result",
          "data": {
            "text/plain": [
              "<ErrorbarContainer object of 3 artists>"
            ]
          },
          "metadata": {
            "tags": []
          },
          "execution_count": 65
        },
        {
          "output_type": "display_data",
          "data": {
            "image/png": "[encoded data removed]",
            "text/plain": [
              "<Figure size 432x288 with 1 Axes>"
            ]
          },
          "metadata": {
            "tags": [],
            "needs_background": "light"
          }
        }
      ]
    },
    {
      "cell_type": "markdown",
      "metadata": {
        "id": "r1slxdCJsRX_"
      },
      "source": [
        "### Evaluation"
      ]
    },
    {
      "cell_type": "code",
      "metadata": {
        "colab": {
          "base_uri": "https://localhost:8080/"
        },
        "id": "tbFm9Xnxsp5f",
        "outputId": "60899f50-4f23-443a-edd6-72c58343e2d8"
      },
      "source": [
        "# Prediction\n",
        "y_pred = model.predict(x_test)\n",
        "print(classification_report(y_test, y_pred))"
      ],
      "execution_count": 35,
      "outputs": [
        {
          "output_type": "stream",
          "text": [
            "              precision    recall  f1-score   support\n",
            "\n",
            "           0       0.67      0.40      0.50         5\n",
            "           1       0.57      0.80      0.67         5\n",
            "\n",
            "    accuracy                           0.60        10\n",
            "   macro avg       0.62      0.60      0.58        10\n",
            "weighted avg       0.62      0.60      0.58        10\n",
            "\n"
          ],
          "name": "stdout"
        }
      ]
    }
  ]
}