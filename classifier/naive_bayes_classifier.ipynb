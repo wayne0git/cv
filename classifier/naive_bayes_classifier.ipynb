{
 "cells": [
  {
   "cell_type": "markdown",
   "metadata": {},
   "source": [
    "## Naive Bayes' Classifier\n",
    "### Ref : https://towardsdatascience.com/naive-bayes-classifier-bayes-inference-central-limit-theorem-python-c-implementation-bdffb3b35de"
   ]
  },
  {
   "cell_type": "code",
   "execution_count": 3,
   "metadata": {},
   "outputs": [],
   "source": [
    "import numpy as np\n",
    "\n",
    "from sklearn.model_selection import train_test_split\n",
    "from sklearn import datasets"
   ]
  },
  {
   "cell_type": "markdown",
   "metadata": {},
   "source": [
    "## Classifier Implementation"
   ]
  },
  {
   "cell_type": "code",
   "execution_count": 2,
   "metadata": {},
   "outputs": [],
   "source": [
    "class NaiveBayes:\n",
    "    def __init__(self, X, y):\n",
    "        self.priors = []  # List of priors - P(y) for each class\n",
    "        self.stds = []    # List of STDs of feature columns\n",
    "        self.means = []   # List of Mean of feature columns\n",
    "        self.classes = np.unique(y)  # unique class labels\n",
    "\n",
    "        self.X = X\n",
    "        self.y = y\n",
    "\n",
    "    def fit(self):\n",
    "        # update likelihood p(x|y) \n",
    "        for c in self.classes:\n",
    "            x_c = self.X[c == self.y]                   # Get a feature vector that belongs to the class\n",
    "            self.means.append(x_c.mean(axis=0))         # axis = 0 => column-wise Mean\n",
    "            self.stds.append(x_c.std(axis=0))           # axis = 0 => column-wise STD\n",
    "            self.priors.append(len(x_c) / len(self.X))  # Calculate frequency of each class\n",
    "\n",
    "    def predict(self, X):\n",
    "        y_pred = [self.__predict__(x) for x in X]\n",
    "        return y_pred\n",
    "\n",
    "    def __gauss_pdf__(self, idx, x):\n",
    "        mu = self.means[idx]\n",
    "        std = self.stds[idx]\n",
    "\n",
    "        return np.exp(-(x - mu) ** 2 / (2 * std ** 2)) / np.sqrt(2 * np.pi * std ** 2)\n",
    "            \n",
    "    def __predict__(self, x):\n",
    "        # y = argmax P(y_i|x)\n",
    "        posteriors = []\n",
    "        for idx, c in enumerate(self.classes):\n",
    "            prior = self.priors[idx]             # P(yi)\n",
    "            P_X_yi = self.__gauss_pdf__(idx, x)  # P(X | yi) - Likelihood\n",
    "\n",
    "            posterior = np.log(P_X_yi).sum() + np.log(prior)\n",
    "            posteriors.append(posterior)\n",
    "\n",
    "        return self.classes[np.argmax(posteriors)]"
   ]
  },
  {
   "cell_type": "markdown",
   "metadata": {},
   "source": [
    "## Toy Example"
   ]
  },
  {
   "cell_type": "markdown",
   "metadata": {},
   "source": [
    "## Load Data"
   ]
  },
  {
   "cell_type": "code",
   "execution_count": 22,
   "metadata": {},
   "outputs": [],
   "source": [
    "data_x, data_y = datasets.make_classification(n_samples=10000, n_features=15, \n",
    "                                              n_classes=2, random_state=123)"
   ]
  },
  {
   "cell_type": "markdown",
   "metadata": {},
   "source": [
    "## Split Data"
   ]
  },
  {
   "cell_type": "code",
   "execution_count": 17,
   "metadata": {},
   "outputs": [],
   "source": [
    "x_train, x_test, y_train, y_test = train_test_split(data_x, data_y, test_size=0.2, random_state=123)"
   ]
  },
  {
   "cell_type": "markdown",
   "metadata": {},
   "source": [
    "## Train"
   ]
  },
  {
   "cell_type": "code",
   "execution_count": 18,
   "metadata": {},
   "outputs": [],
   "source": [
    "nb = NaiveBayes(x_train, y_train)\n",
    "nb.fit()"
   ]
  },
  {
   "cell_type": "markdown",
   "metadata": {},
   "source": [
    "## Evaluation"
   ]
  },
  {
   "cell_type": "code",
   "execution_count": 19,
   "metadata": {},
   "outputs": [],
   "source": [
    "y_pred = nb.predict(x_test)"
   ]
  },
  {
   "cell_type": "code",
   "execution_count": 20,
   "metadata": {},
   "outputs": [
    {
     "name": "stdout",
     "output_type": "stream",
     "text": [
      "Accuracy: 0.92\n"
     ]
    }
   ],
   "source": [
    "print('Accuracy: %.2f' % ((y_pred == y_test).sum() / y_test.size))"
   ]
  }
 ],
 "metadata": {
  "kernelspec": {
   "display_name": "Python 3",
   "language": "python",
   "name": "python3"
  },
  "language_info": {
   "codemirror_mode": {
    "name": "ipython",
    "version": 3
   },
   "file_extension": ".py",
   "mimetype": "text/x-python",
   "name": "python",
   "nbconvert_exporter": "python",
   "pygments_lexer": "ipython3",
   "version": "3.5.5"
  }
 },
 "nbformat": 4,
 "nbformat_minor": 2
}
