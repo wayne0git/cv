{
 "cells": [
  {
   "cell_type": "markdown",
   "metadata": {},
   "source": [
    "## OpenCV Fast Fourier Transform (FFT) for blur detection\n",
    "- Ref : https://www.pyimagesearch.com/2020/06/15/opencv-fast-fourier-transform-fft-for-blur-detection-in-images-and-video-streams/"
   ]
  },
  {
   "cell_type": "code",
   "execution_count": null,
   "metadata": {},
   "outputs": [],
   "source": [
    "import cv2\n",
    "import numpy as np\n",
    "import os\n",
    "\n",
    "from matplotlib import pyplot as plt"
   ]
  },
  {
   "cell_type": "markdown",
   "metadata": {},
   "source": [
    "### Parameter"
   ]
  },
  {
   "cell_type": "code",
   "execution_count": null,
   "metadata": {},
   "outputs": [],
   "source": [
    "IMAGE_PATH = os.path.join('.', 'data', 'frame_00003_rgb.png')\n",
    "BLUR_KERNEL = 19   # Radius of Gaussian blur kernel (For test purpose)\n",
    "BLUR_RADIUS = 30  # Radius to extract high frequency components\n",
    "BLUR_TH = 10      # Magnitude threshold of high frequency energy"
   ]
  },
  {
   "cell_type": "markdown",
   "metadata": {},
   "source": [
    "### Blur Detection"
   ]
  },
  {
   "cell_type": "code",
   "execution_count": null,
   "metadata": {},
   "outputs": [],
   "source": [
    "def detect_blur_fft(image, size=60, thresh=10):\n",
    "    # Get dimension\n",
    "    h, w = image.shape\n",
    "    cx, cy = int(w / 2), int(h / 2)\n",
    "\n",
    "    # FFT\n",
    "    spec = np.fft.fft2(image)\n",
    "    spec_sft = np.fft.fftshift(spec)\n",
    "\n",
    "    # High pass filter\n",
    "    spec_sft[cy - size:cy + size, cx - size:cx + size] = 0\n",
    "\n",
    "    # IFFT\n",
    "    spec_hp = np.fft.ifftshift(spec_sft)\n",
    "    image_hp = np.fft.ifft2(spec_hp)\n",
    "\n",
    "    # Compute high frequency energy\n",
    "    energy_hf = np.mean(20 * np.log(np.abs(image_hp)))\n",
    "\n",
    "    # Plot \n",
    "    fig, ax = plt.subplots(1, 2, )\n",
    "    ax[0].imshow(20 * np.log(np.abs(spec_sft) + 1e-6))\n",
    "    ax[1].imshow(np.abs(image_hp))\n",
    "    \n",
    "    return energy_hf, energy_hf <= thresh"
   ]
  },
  {
   "cell_type": "markdown",
   "metadata": {},
   "source": [
    "### Main Code"
   ]
  },
  {
   "cell_type": "code",
   "execution_count": null,
   "metadata": {
    "scrolled": true
   },
   "outputs": [],
   "source": [
    "# Load image\n",
    "im = cv2.imread(IMAGE_PATH)\n",
    "\n",
    "# Blur (Test)\n",
    "im = cv2.GaussianBlur(im, (BLUR_KERNEL, BLUR_KERNEL), 0)\n",
    "\n",
    "# Blur detection\n",
    "gray = cv2.cvtColor(im, cv2.COLOR_BGR2GRAY)\n",
    "e_hf, flag_b = detect_blur_fft(gray, BLUR_RADIUS, BLUR_TH)\n",
    "\n",
    "# Overlay\n",
    "text = 'Blurry ({:.4f})' if flag_b else 'Not Blurry ({:.4f})'\n",
    "text = text.format(e_hf)\n",
    "color = (0, 0, 255) if flag_b else (0, 255, 0)\n",
    "cv2.putText(im, text, (20, 50), cv2.FONT_HERSHEY_COMPLEX, 1, color, 4)\n",
    "\n",
    "fig, ax = plt.subplots(1, 1)\n",
    "ax.imshow(cv2.cvtColor(im, cv2.COLOR_BGR2RGB))"
   ]
  },
  {
   "cell_type": "code",
   "execution_count": null,
   "metadata": {},
   "outputs": [],
   "source": []
  }
 ],
 "metadata": {
  "kernelspec": {
   "display_name": "Python 3",
   "language": "python",
   "name": "python3"
  },
  "language_info": {
   "codemirror_mode": {
    "name": "ipython",
    "version": 3
   },
   "file_extension": ".py",
   "mimetype": "text/x-python",
   "name": "python",
   "nbconvert_exporter": "python",
   "pygments_lexer": "ipython3",
   "version": "3.7.6"
  }
 },
 "nbformat": 4,
 "nbformat_minor": 4
}
