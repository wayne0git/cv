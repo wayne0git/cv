{
  "nbformat": 4,
  "nbformat_minor": 0,
  "metadata": {
    "colab": {
      "name": "ocr_tesseract_example.ipynb",
      "provenance": [],
      "authorship_tag": "ABX9TyPGTiVCBomI8Tt6X01JWo8s"
    },
    "kernelspec": {
      "name": "python3",
      "display_name": "Python 3"
    }
  },
  "cells": [
    {
      "cell_type": "markdown",
      "metadata": {
        "id": "B1OORSybzdAM",
        "colab_type": "text"
      },
      "source": [
        "## Optical Chacater Recognition using Tesseract\n",
        "- Ref : \n",
        " - https://www.pyimagesearch.com/2018/09/17/opencv-ocr-and-text-recognition-with-tesseract/\n",
        " - https://www.pyimagesearch.com/2020/08/03/tesseract-ocr-for-non-english-languages/"
      ]
    },
    {
      "cell_type": "markdown",
      "metadata": {
        "id": "Wjn7v79izmhh",
        "colab_type": "text"
      },
      "source": [
        "### Environment Preparation"
      ]
    },
    {
      "cell_type": "code",
      "metadata": {
        "id": "FfRJG2uzzVnp",
        "colab_type": "code",
        "colab": {}
      },
      "source": [
        "# Install Tesseract\n",
        "!apt install tesseract-ocr"
      ],
      "execution_count": null,
      "outputs": []
    },
    {
      "cell_type": "code",
      "metadata": {
        "id": "-XHCmKxM0eVP",
        "colab_type": "code",
        "colab": {}
      },
      "source": [
        "# Install Python bindings and other related packages\n",
        "!pip install pillow\n",
        "!pip install pytesseract\n",
        "!pip install imutils\n",
        "!pip install textblob   # For non-English translation"
      ],
      "execution_count": null,
      "outputs": []
    },
    {
      "cell_type": "code",
      "metadata": {
        "id": "BIq4Fag50Akr",
        "colab_type": "code",
        "colab": {}
      },
      "source": [
        "# Check if installation success\n",
        "!tesseract -v"
      ],
      "execution_count": null,
      "outputs": []
    },
    {
      "cell_type": "markdown",
      "metadata": {
        "id": "QEtwxgWPUjbT",
        "colab_type": "text"
      },
      "source": [
        "### Tesseract Command Options"
      ]
    },
    {
      "cell_type": "code",
      "metadata": {
        "id": "53vpSGRL0XNF",
        "colab_type": "code",
        "colab": {
          "base_uri": "https://localhost:8080/",
          "height": 108
        },
        "outputId": "ee1e96ec-b066-4d45-89ea-269dff2890dd"
      },
      "source": [
        "# OCR Engine Mode (Default : 1)\n",
        "# Controls the type of algorithm used by Tesseract\n",
        "!tesseract --help-oem"
      ],
      "execution_count": 4,
      "outputs": [
        {
          "output_type": "stream",
          "text": [
            "OCR Engine modes: (see https://github.com/tesseract-ocr/tesseract/wiki#linux)\n",
            "  0    Legacy engine only.\n",
            "  1    Neural nets LSTM engine only.\n",
            "  2    Legacy + LSTM engines.\n",
            "  3    Default, based on what is available.\n"
          ],
          "name": "stdout"
        }
      ]
    },
    {
      "cell_type": "code",
      "metadata": {
        "id": "kVTDEzsMUrKK",
        "colab_type": "code",
        "colab": {
          "base_uri": "https://localhost:8080/",
          "height": 308
        },
        "outputId": "f301310c-7eea-47ec-9c69-c925c6ce7d79"
      },
      "source": [
        "# Page Segmentation Mode (Default : 3) (6, 7 work well)\n",
        "# Controls the automatic Page Segmentation Mode used by Tesseract\n",
        "!tesseract --help-psm"
      ],
      "execution_count": 5,
      "outputs": [
        {
          "output_type": "stream",
          "text": [
            "Page segmentation modes:\n",
            "  0    Orientation and script detection (OSD) only.\n",
            "  1    Automatic page segmentation with OSD.\n",
            "  2    Automatic page segmentation, but no OSD, or OCR.\n",
            "  3    Fully automatic page segmentation, but no OSD. (Default)\n",
            "  4    Assume a single column of text of variable sizes.\n",
            "  5    Assume a single uniform block of vertically aligned text.\n",
            "  6    Assume a single uniform block of text.\n",
            "  7    Treat the image as a single text line.\n",
            "  8    Treat the image as a single word.\n",
            "  9    Treat the image as a single word in a circle.\n",
            " 10    Treat the image as a single character.\n",
            " 11    Sparse text. Find as much text as possible in no particular order.\n",
            " 12    Sparse text with OSD.\n",
            " 13    Raw line. Treat the image as a single text line,\n",
            "       bypassing hacks that are Tesseract-specific.\n"
          ],
          "name": "stdout"
        }
      ]
    },
    {
      "cell_type": "markdown",
      "metadata": {
        "id": "SrpOWbSGg8so",
        "colab_type": "text"
      },
      "source": [
        "### For Non-English Language"
      ]
    },
    {
      "cell_type": "code",
      "metadata": {
        "id": "9Sx3WHvmhBL0",
        "colab_type": "code",
        "colab": {}
      },
      "source": [
        "# Clone tesseract repo for Tesseract’s language packs\n",
        "!git clone https://github.com/tesseract-ocr/tessdata"
      ],
      "execution_count": null,
      "outputs": []
    },
    {
      "cell_type": "code",
      "metadata": {
        "id": "_TEfe19phKwu",
        "colab_type": "code",
        "colab": {}
      },
      "source": [
        "# Set the TESSDATA_PREFIX environment variable\n",
        "# Can't directly use export in colab\n",
        "import os\n",
        "os.environ['TESSDATA_PREFIX'] = '/content/tessdata'"
      ],
      "execution_count": 60,
      "outputs": []
    },
    {
      "cell_type": "markdown",
      "metadata": {
        "id": "jlYX1F1wWFIS",
        "colab_type": "text"
      },
      "source": [
        "### Import Library"
      ]
    },
    {
      "cell_type": "code",
      "metadata": {
        "id": "IjSoKYAfWBzr",
        "colab_type": "code",
        "colab": {}
      },
      "source": [
        "import cv2\n",
        "import pytesseract\n",
        "\n",
        "from matplotlib import pyplot as plt\n",
        "from pytesseract import Output\n",
        "from textblob import TextBlob"
      ],
      "execution_count": 47,
      "outputs": []
    },
    {
      "cell_type": "markdown",
      "metadata": {
        "id": "Sibl_aSUWN8K",
        "colab_type": "text"
      },
      "source": [
        "### Parameter"
      ]
    },
    {
      "cell_type": "code",
      "metadata": {
        "id": "knEAkRb8WNjK",
        "colab_type": "code",
        "colab": {}
      },
      "source": [
        "# Input Image\n",
        "IMG_PATH = '2.png'\n",
        "\n",
        "# Tesseract Command Options\n",
        "LANG = 'swa'\n",
        "OEM = 1\n",
        "PSM = 3\n",
        "\n",
        "# Confidence Level\n",
        "CONF = 80"
      ],
      "execution_count": 78,
      "outputs": []
    },
    {
      "cell_type": "markdown",
      "metadata": {
        "id": "9tgY3dqxVyYa",
        "colab_type": "text"
      },
      "source": [
        "### Apply Tesseract"
      ]
    },
    {
      "cell_type": "code",
      "metadata": {
        "id": "2Uo0tmSEVxxE",
        "colab_type": "code",
        "colab": {}
      },
      "source": [
        "# Read text image data\n",
        "img = cv2.imread(IMG_PATH)"
      ],
      "execution_count": 73,
      "outputs": []
    },
    {
      "cell_type": "code",
      "metadata": {
        "id": "UYkHJ0acVOmH",
        "colab_type": "code",
        "colab": {}
      },
      "source": [
        "# Tesseract Command Options\n",
        "config = '-l %s --oem %d --psm %d' % (LANG, OEM, PSM)"
      ],
      "execution_count": 79,
      "outputs": []
    },
    {
      "cell_type": "code",
      "metadata": {
        "id": "B-Ow9sZrWefZ",
        "colab_type": "code",
        "colab": {}
      },
      "source": [
        "# Apply Tesseract (Get Text Only)\n",
        "text = pytesseract.image_to_string(img, config=config)\n",
        "print()"
      ],
      "execution_count": null,
      "outputs": []
    },
    {
      "cell_type": "code",
      "metadata": {
        "id": "z2KzsK5iluGO",
        "colab_type": "code",
        "colab": {}
      },
      "source": [
        "# Translation (TextBlob may fail if input frpm Output.DICT text)\n",
        "tb = TextBlob(text)\n",
        "print(text, tb.translate(to='en'))"
      ],
      "execution_count": null,
      "outputs": []
    },
    {
      "cell_type": "code",
      "metadata": {
        "id": "OaYcVFKBXiph",
        "colab_type": "code",
        "colab": {}
      },
      "source": [
        "# Apply Tesseract (Get Text / Box Coordinate / Confidence Level)\n",
        "data = pytesseract.image_to_data(img, config=config, output_type=Output.DICT)"
      ],
      "execution_count": 93,
      "outputs": []
    },
    {
      "cell_type": "markdown",
      "metadata": {
        "id": "aJs4jxJ5YQgz",
        "colab_type": "text"
      },
      "source": [
        "### Visualize Result"
      ]
    },
    {
      "cell_type": "code",
      "metadata": {
        "id": "aZf0eCacYTCx",
        "colab_type": "code",
        "colab": {}
      },
      "source": [
        "img_vis = img.copy()\n",
        "for i in range(len(data['level']) - 1):\n",
        "    if int(data['conf'][i]) > CONF:\n",
        "        x, y, w, h = data['left'][i], data['top'][i], data['width'][i], data['height'][i]\n",
        "        cv2.rectangle(img_vis, (x, y), (x+w, y+h), (0, 255, 0), 1)\n",
        "        cv2.putText(img_vis, '%s: %s' % (data['text'][i], data['conf'][i]), (int(x+w/2), int(y+h/2)), cv2.FONT_HERSHEY_COMPLEX, 1, (255, 0, 0), 1, cv2.LINE_AA)\n",
        "\n",
        "plt.figure(figsize=(10, 10))\n",
        "plt.imshow(cv2.cvtColor(img_vis, cv2.COLOR_BGR2RGB))"
      ],
      "execution_count": null,
      "outputs": []
    },
    {
      "cell_type": "code",
      "metadata": {
        "id": "z7GeVNgZabl5",
        "colab_type": "code",
        "colab": {}
      },
      "source": [
        ""
      ],
      "execution_count": null,
      "outputs": []
    }
  ]
}