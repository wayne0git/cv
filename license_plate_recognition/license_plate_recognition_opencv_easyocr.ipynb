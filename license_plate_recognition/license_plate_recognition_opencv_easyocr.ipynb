{
 "cells": [
  {
   "cell_type": "markdown",
   "metadata": {},
   "source": [
    "## License Plate Recognition based on image processing and OCR\n",
    "Ref - https://www.pyimagesearch.com/2020/09/21/opencv-automatic-license-number-plate-recognition-anpr-with-python/"
   ]
  },
  {
   "cell_type": "markdown",
   "metadata": {},
   "source": [
    "### Algorithm Flow\n",
    "1. Detect and localize a license plate in an input image/frame based on image processing \n",
    "2. Extract the characters from the license plate\n",
    "3. Apply Optical Character Recognition (OCR) to recognize the extracted characters"
   ]
  },
  {
   "cell_type": "markdown",
   "metadata": {},
   "source": [
    "### Import"
   ]
  },
  {
   "cell_type": "code",
   "execution_count": 28,
   "metadata": {},
   "outputs": [],
   "source": [
    "import cv2\n",
    "import imutils\n",
    "import numpy as np\n",
    "\n",
    "from easyocr import Reader\n",
    "from matplotlib import pyplot as plt\n",
    "from skimage.segmentation import clear_border"
   ]
  },
  {
   "cell_type": "markdown",
   "metadata": {},
   "source": [
    "### Parameter"
   ]
  },
  {
   "cell_type": "code",
   "execution_count": 29,
   "metadata": {},
   "outputs": [],
   "source": [
    "IMG_FPATH = 'P9180007.jpg'"
   ]
  },
  {
   "cell_type": "code",
   "execution_count": 30,
   "metadata": {},
   "outputs": [],
   "source": [
    "# Range of license plate aspect ratio\n",
    "MIN_AR, MAX_AR = 2, 6\n",
    "\n",
    "# Morphology Operation Parameters\n",
    "MORPH_KER_SHAPE = cv2.MORPH_RECT\n",
    "MORPH_KER_SIZE = (13, 5)\n",
    "MORPH_OP1 = cv2.MORPH_BLACKHAT\n",
    "MORPH_OP2 = cv2.MORPH_CLOSE\n",
    "\n",
    "# Gaussian Blur Kernel Size\n",
    "BLUR_KER_SIZE = (5, 5)\n",
    "\n",
    "# Maximum number of detection candidate\n",
    "NUM_KEEP = 5"
   ]
  },
  {
   "cell_type": "code",
   "execution_count": 31,
   "metadata": {},
   "outputs": [],
   "source": [
    "# EasyOCR Lang\n",
    "LANGS = ['en']"
   ]
  },
  {
   "cell_type": "markdown",
   "metadata": {},
   "source": [
    "### Load Data"
   ]
  },
  {
   "cell_type": "code",
   "execution_count": 32,
   "metadata": {},
   "outputs": [],
   "source": [
    "img = cv2.imread(IMG_FPATH)"
   ]
  },
  {
   "cell_type": "markdown",
   "metadata": {},
   "source": [
    "### Preprocessing"
   ]
  },
  {
   "cell_type": "code",
   "execution_count": 33,
   "metadata": {},
   "outputs": [],
   "source": [
    "gray = cv2.cvtColor(img, cv2.COLOR_BGR2GRAY)"
   ]
  },
  {
   "cell_type": "markdown",
   "metadata": {},
   "source": [
    "### License Plate Detection"
   ]
  },
  {
   "cell_type": "markdown",
   "metadata": {},
   "source": [
    "#### 1. Find Text Area"
   ]
  },
  {
   "cell_type": "code",
   "execution_count": 34,
   "metadata": {},
   "outputs": [],
   "source": [
    "# Apply Black-Hat Morphology Operation => Make dark text over light background more obvious\n",
    "# Difference between original image and image after morphology closing\n",
    "morph_ker = cv2.getStructuringElement(MORPH_KER_SHAPE, MORPH_KER_SIZE)\n",
    "gray_morph = cv2.morphologyEx(gray, MORPH_OP1, morph_ker)"
   ]
  },
  {
   "cell_type": "code",
   "execution_count": 35,
   "metadata": {},
   "outputs": [],
   "source": [
    "# Compute gradient image along x-direction only and normalize\n",
    "gray_gradx = cv2.Sobel(gray_morph, cv2.CV_32F, dx=1, dy=0, ksize=3)\n",
    "gray_gradx = np.abs(gray_gradx)\n",
    "gray_gradx = 255 * (gray_gradx - gray_gradx.min()) / (gray_gradx.max() - gray_gradx.min())\n",
    "gray_gradx = gray_gradx.astype(np.uint8)"
   ]
  },
  {
   "cell_type": "code",
   "execution_count": 36,
   "metadata": {},
   "outputs": [],
   "source": [
    "# Find text areas by adaptive threshold (Apply blurring and closing first to fill small holes)\n",
    "gray_gradx_blur = cv2.GaussianBlur(gray_gradx, BLUR_KER_SIZE, 0)\n",
    "gray_gradx_blur = cv2.morphologyEx(gray_gradx_blur, MORPH_OP2, morph_ker)\n",
    "text_mask = cv2.threshold(gray_gradx_blur, 0, 255, cv2.THRESH_BINARY | cv2.THRESH_OTSU)[1]"
   ]
  },
  {
   "cell_type": "markdown",
   "metadata": {},
   "source": [
    "#### 2. Find Bright Area (Assume license plate background is white)"
   ]
  },
  {
   "cell_type": "code",
   "execution_count": 37,
   "metadata": {},
   "outputs": [],
   "source": [
    "# Find bright areas by adaptive threshold (Apply closing first to fill small holes)\n",
    "# Pixel > OTSU Threshold = MaxVal (255)\n",
    "gray_morph2 = cv2.morphologyEx(gray, MORPH_OP2, morph_ker)\n",
    "bright_mask = cv2.threshold(gray_morph2, 0, 255, cv2.THRESH_BINARY | cv2.THRESH_OTSU)[1]"
   ]
  },
  {
   "cell_type": "markdown",
   "metadata": {},
   "source": [
    "#### 3. Get mask of possible license plate area"
   ]
  },
  {
   "cell_type": "code",
   "execution_count": 38,
   "metadata": {},
   "outputs": [],
   "source": [
    "# Multiple text mask and bright mask\n",
    "# Perform series of erosions and dilations to denoise\n",
    "mask = cv2.bitwise_and(text_mask, text_mask, mask=bright_mask)\n",
    "mask = cv2.dilate(mask, None, iterations=1)\n",
    "mask = cv2.erode(mask, None, iterations=1)"
   ]
  },
  {
   "cell_type": "markdown",
   "metadata": {},
   "source": [
    "#### 4. Extract possible license plate area"
   ]
  },
  {
   "cell_type": "code",
   "execution_count": 39,
   "metadata": {},
   "outputs": [],
   "source": [
    "# Find contour with top-K large area (Use element 0 for OpenCV4. Use element 1 for OpenCV3)\n",
    "cnts = cv2.findContours(mask, cv2.RETR_EXTERNAL, cv2.CHAIN_APPROX_SIMPLE)[0]\n",
    "cnts = sorted(cnts, key=cv2.contourArea, reverse=True)[:NUM_KEEP]"
   ]
  },
  {
   "cell_type": "code",
   "execution_count": 40,
   "metadata": {},
   "outputs": [],
   "source": [
    "# Apply geometry contraint\n",
    "lpcnt, lproi, lpbox = None, None, None\n",
    "\n",
    "for cnt in cnts:\n",
    "    # Get bounding rectangle of each contour\n",
    "    x, y, w, h = cv2.boundingRect(cnt)\n",
    "\n",
    "    # Aspect ratio check\n",
    "    ar = w / float(h)\n",
    "    if ar >= MIN_AR and ar <= MAX_AR:\n",
    "        lpbox = (x, y, w, h)\n",
    "        lpcnt = cnt\n",
    "\n",
    "        # Extract binarized ROI\n",
    "        lproi = gray[y:y+h, x:x+w]\n",
    "        lproi = cv2.threshold(lproi, 0, 255, cv2.THRESH_BINARY | cv2.THRESH_OTSU)[1]\n",
    "\n",
    "        break"
   ]
  },
  {
   "cell_type": "markdown",
   "metadata": {},
   "source": [
    "### OCR"
   ]
  },
  {
   "cell_type": "code",
   "execution_count": 41,
   "metadata": {},
   "outputs": [
    {
     "name": "stderr",
     "output_type": "stream",
     "text": [
      "CUDA not available - defaulting to CPU. Note: This module is much faster with a GPU.\n"
     ]
    }
   ],
   "source": [
    "# Initialize EasyOCR\n",
    "reader = Reader(LANGS)"
   ]
  },
  {
   "cell_type": "code",
   "execution_count": 42,
   "metadata": {},
   "outputs": [],
   "source": [
    "# OCR\n",
    "# List of (box coordinate list in (x, y), Text, Probability)\n",
    "results = reader.readtext(lproi)"
   ]
  },
  {
   "cell_type": "markdown",
   "metadata": {},
   "source": [
    "### Visualization"
   ]
  },
  {
   "cell_type": "code",
   "execution_count": 43,
   "metadata": {},
   "outputs": [],
   "source": [
    "img_vis = cv2.cvtColor(gray, cv2.COLOR_GRAY2BGR)\n",
    "for bbox, text, prob in results:\n",
    "    # unpack bbox\n",
    "    tl, tr, br, bl = bbox\n",
    "    tl = (int(tl[0] + lpbox[0]), int(tl[1] + lpbox[1]))\n",
    "    br = (int(br[0] + lpbox[0]), int(br[1] + lpbox[1]))\n",
    "\n",
    "    # Overlay\n",
    "    cv2.rectangle(img_vis, tl, br, (0, 255, 0), 2)\n",
    "    cv2.putText(img_vis, text, (tl[0], tl[1] - 10), cv2.FONT_HERSHEY_COMPLEX, 1, (255, 0, 0), 1)\n",
    "\n",
    "cv2.namedWindow('Result', cv2.WINDOW_NORMAL)\n",
    "cv2.imshow('Result', img_vis)\n",
    "cv2.waitKey(0)\n",
    "cv2.destroyAllWindows()"
   ]
  },
  {
   "cell_type": "code",
   "execution_count": null,
   "metadata": {},
   "outputs": [],
   "source": []
  }
 ],
 "metadata": {
  "kernelspec": {
   "display_name": "Python 3",
   "language": "python",
   "name": "python3"
  },
  "language_info": {
   "codemirror_mode": {
    "name": "ipython",
    "version": 3
   },
   "file_extension": ".py",
   "mimetype": "text/x-python",
   "name": "python",
   "nbconvert_exporter": "python",
   "pygments_lexer": "ipython3",
   "version": "3.7.6"
  }
 },
 "nbformat": 4,
 "nbformat_minor": 4
}
