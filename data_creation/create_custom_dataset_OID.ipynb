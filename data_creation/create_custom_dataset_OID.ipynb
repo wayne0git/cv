{
  "nbformat": 4,
  "nbformat_minor": 0,
  "metadata": {
    "colab": {
      "name": "create_custom_dataset_OID.ipynb",
      "provenance": [],
      "authorship_tag": "ABX9TyO3nxI1dMqglPyqe++hDBIl"
    },
    "kernelspec": {
      "name": "python3",
      "display_name": "Python 3"
    }
  },
  "cells": [
    {
      "cell_type": "markdown",
      "metadata": {
        "id": "EaCEdvjcWIf1",
        "colab_type": "text"
      },
      "source": [
        "## Create Custom Dataset using OpenImageDataset (OID)\n",
        "- Ref - https://towardsdatascience.com/how-to-create-an-end-to-end-object-detector-using-yolov5-35fbb1a02810"
      ]
    },
    {
      "cell_type": "markdown",
      "metadata": {
        "id": "sDalmY-DWWDs",
        "colab_type": "text"
      },
      "source": [
        "### Installation"
      ]
    },
    {
      "cell_type": "code",
      "metadata": {
        "id": "poAftrljWEMl",
        "colab_type": "code",
        "colab": {}
      },
      "source": [
        "!git clone https://github.com/EscVM/OIDv4_ToolKit"
      ],
      "execution_count": null,
      "outputs": []
    },
    {
      "cell_type": "code",
      "metadata": {
        "id": "yxgbYrahWZvH",
        "colab_type": "code",
        "colab": {}
      },
      "source": [
        "# Use % instead of ! for cd command in Jupyter Notebook\n",
        "%cd OIDv4_ToolKit"
      ],
      "execution_count": null,
      "outputs": []
    },
    {
      "cell_type": "code",
      "metadata": {
        "id": "HFY429Y-WdvO",
        "colab_type": "code",
        "colab": {}
      },
      "source": [
        "!pip install -r requirements.txt"
      ],
      "execution_count": null,
      "outputs": []
    },
    {
      "cell_type": "markdown",
      "metadata": {
        "id": "tC3oGBAOXLha",
        "colab_type": "text"
      },
      "source": [
        "### Download Image Data"
      ]
    },
    {
      "cell_type": "markdown",
      "metadata": {
        "id": "iTvJyKFKrvoK",
        "colab_type": "text"
      },
      "source": [
        "#### Usage : python main.py COMMAND --OPTION\n",
        "- Command : downloader / visualizer\n",
        "- -y : Answer Yes to possible download of missing files\n",
        "- --classes : List of class names (Search in https://storage.googleapis.com/openimages/web/visualizer/index.html?set=train&type=detection&c=%2Fm%2F012w5l)\n",
        "- --Dataset : Path to OID CSV folder\n",
        "- --type_csv : train / validation / test / all\n",
        "- --limit : Limit on number of images to download"
      ]
    },
    {
      "cell_type": "code",
      "metadata": {
        "id": "XzO-46rQWoQb",
        "colab_type": "code",
        "colab": {}
      },
      "source": [
        "!python main.py downloader --classes Cricket_ball Ladder --type_csv all -y --limit 500"
      ],
      "execution_count": null,
      "outputs": []
    },
    {
      "cell_type": "code",
      "metadata": {
        "id": "RjX1J6o0vCxj",
        "colab_type": "code",
        "colab": {
          "base_uri": "https://localhost:8080/",
          "height": 689
        },
        "outputId": "e83a4d96-30c7-4c60-b407-50fa7e6fc2a8"
      },
      "source": [
        "!tree ./OID --filelimit 10"
      ],
      "execution_count": 27,
      "outputs": [
        {
          "output_type": "stream",
          "text": [
            "./OID\n",
            "├── csv_folder\n",
            "│   ├── class-descriptions-boxable.csv\n",
            "│   ├── test-annotations-bbox.csv\n",
            "│   ├── train-annotations-bbox.csv\n",
            "│   └── validation-annotations-bbox.csv\n",
            "└── Dataset\n",
            "    ├── test\n",
            "    │   ├── Cricket ball\n",
            "    │   │   ├── 05ad012d0ccab5cb.jpg\n",
            "    │   │   ├── 1679b6bb52a8a870.jpg\n",
            "    │   │   ├── 5431222168f2904f.jpg\n",
            "    │   │   ├── 574901d78c34e0a8.jpg\n",
            "    │   │   ├── 9ce3a067de6a0255.jpg\n",
            "    │   │   ├── d57c16af2d536088.jpg\n",
            "    │   │   ├── ec85f5fd2f5392bf.jpg\n",
            "    │   │   └── Label\n",
            "    │   │       ├── 05ad012d0ccab5cb.txt\n",
            "    │   │       ├── 1679b6bb52a8a870.txt\n",
            "    │   │       ├── 5431222168f2904f.txt\n",
            "    │   │       ├── 574901d78c34e0a8.txt\n",
            "    │   │       ├── 9ce3a067de6a0255.txt\n",
            "    │   │       ├── d57c16af2d536088.txt\n",
            "    │   │       └── ec85f5fd2f5392bf.txt\n",
            "    │   └── Ladder [57 entries exceeds filelimit, not opening dir]\n",
            "    ├── train\n",
            "    │   ├── Cricket ball [96 entries exceeds filelimit, not opening dir]\n",
            "    │   └── Ladder [501 entries exceeds filelimit, not opening dir]\n",
            "    └── validation\n",
            "        ├── Cricket ball\n",
            "        │   ├── 736adc25671fb004.jpg\n",
            "        │   ├── b8942e8ca4682cb2.jpg\n",
            "        │   ├── e1d2aa04889492be.jpg\n",
            "        │   └── Label\n",
            "        │       ├── 736adc25671fb004.txt\n",
            "        │       ├── b8942e8ca4682cb2.txt\n",
            "        │       └── e1d2aa04889492be.txt\n",
            "        └── Ladder [17 entries exceeds filelimit, not opening dir]\n",
            "\n",
            "13 directories, 24 files\n"
          ],
          "name": "stdout"
        }
      ]
    },
    {
      "cell_type": "code",
      "metadata": {
        "id": "3Wp5QxVrv4ze",
        "colab_type": "code",
        "colab": {}
      },
      "source": [
        ""
      ],
      "execution_count": null,
      "outputs": []
    }
  ]
}