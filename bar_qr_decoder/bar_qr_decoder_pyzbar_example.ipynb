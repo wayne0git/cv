{
 "cells": [
  {
   "cell_type": "markdown",
   "metadata": {},
   "source": [
    "### Barcode / QRCode Decoder using pyzbar\n",
    "- Ref : https://towardsdatascience.com/barcodes-and-qr-codes-decoder-in-python-59615c5f2b23"
   ]
  },
  {
   "cell_type": "markdown",
   "metadata": {},
   "source": [
    "### Environment Installation"
   ]
  },
  {
   "cell_type": "code",
   "execution_count": null,
   "metadata": {},
   "outputs": [],
   "source": [
    "!pip install python-barcode   # For 1D barcode generation\n",
    "!pip install qrcode           # For qrcode generation\n",
    "!pip install pyzbar           # Decoder"
   ]
  },
  {
   "cell_type": "markdown",
   "metadata": {},
   "source": [
    "### Import"
   ]
  },
  {
   "cell_type": "code",
   "execution_count": 16,
   "metadata": {},
   "outputs": [],
   "source": [
    "import cv2\n",
    "import qrcode\n",
    "\n",
    "from barcode import EAN13\n",
    "from barcode.writer import ImageWriter\n",
    "from pyzbar.pyzbar import decode"
   ]
  },
  {
   "cell_type": "markdown",
   "metadata": {},
   "source": [
    "### Constants / Parameters"
   ]
  },
  {
   "cell_type": "code",
   "execution_count": 3,
   "metadata": {},
   "outputs": [],
   "source": [
    "BAR_STR = '123456789102'\n",
    "BAR_OUT_FPATH = 'barcode.png'"
   ]
  },
  {
   "cell_type": "code",
   "execution_count": 9,
   "metadata": {},
   "outputs": [],
   "source": [
    "QR_VER = 1\n",
    "QR_EC = qrcode.constants.ERROR_CORRECT_H  # About 30% or less errors can be corrected\n",
    "QR_BOX_SIZE = 10\n",
    "QR_BORDER = 4\n",
    "\n",
    "QR_URL = 'https://medium.com'\n",
    "QR_OUT_FPATH = 'qrcode.png'"
   ]
  },
  {
   "cell_type": "markdown",
   "metadata": {},
   "source": [
    "### Create Barcode (EAN13)"
   ]
  },
  {
   "cell_type": "code",
   "execution_count": 4,
   "metadata": {},
   "outputs": [],
   "source": [
    "# EAN13 -- String with 12 data digits and 1 digits for checksum\n",
    "with open(BAR_OUT_FPATH, 'wb') as f:\n",
    "    EAN13(BAR_STR, writer=ImageWriter()).write(f)"
   ]
  },
  {
   "cell_type": "markdown",
   "metadata": {},
   "source": [
    "### Create QRcode"
   ]
  },
  {
   "cell_type": "code",
   "execution_count": 10,
   "metadata": {},
   "outputs": [],
   "source": [
    "# Make QRcode\n",
    "qr = qrcode.QRCode(QR_VER, QR_EC, QR_BOX_SIZE, QR_BORDER)\n",
    "qr.add_data(QR_URL)\n",
    "qr.make()"
   ]
  },
  {
   "cell_type": "code",
   "execution_count": 11,
   "metadata": {},
   "outputs": [],
   "source": [
    "# Save QRcode image\n",
    "img = qr.make_image(fill_color='black', back_color='white')\n",
    "img.save(QR_OUT_FPATH)"
   ]
  },
  {
   "cell_type": "markdown",
   "metadata": {},
   "source": [
    "### Load / Preprocess Data"
   ]
  },
  {
   "cell_type": "code",
   "execution_count": 32,
   "metadata": {},
   "outputs": [],
   "source": [
    "# Load image\n",
    "img_bar = cv2.imread(BAR_OUT_FPATH)\n",
    "img_qr = cv2.imread(QR_OUT_FPATH)"
   ]
  },
  {
   "cell_type": "markdown",
   "metadata": {},
   "source": [
    "### Decode"
   ]
  },
  {
   "cell_type": "code",
   "execution_count": 28,
   "metadata": {},
   "outputs": [],
   "source": [
    "# Decode barcode (List of namedTuple)\n",
    "results_bar = decode(img_bar)"
   ]
  },
  {
   "cell_type": "code",
   "execution_count": 29,
   "metadata": {},
   "outputs": [],
   "source": [
    "# Decode QRcode (List of namedTuple)\n",
    "results_qr = decode(img_qr)"
   ]
  },
  {
   "cell_type": "markdown",
   "metadata": {},
   "source": [
    "### Visualization"
   ]
  },
  {
   "cell_type": "code",
   "execution_count": 34,
   "metadata": {},
   "outputs": [],
   "source": [
    "# Visualize Barcode\n",
    "for result in results_bar:\n",
    "    # Overlay rectangle\n",
    "    pt1 = (result.rect.left, result.rect.top)\n",
    "    pt2 = (pt1[0] + result.rect.width, pt1[1] + result.rect.height)\n",
    "    cv2.rectangle(img_bar, pt1, pt2, (0, 255, 0), 3)\n",
    "\n",
    "    # Overlay text\n",
    "    text = result.data.decode('utf-8')\n",
    "    cv2.putText(img_bar, text, (pt1[0], pt1[1] + int(result.rect.height / 2)), cv2.FONT_HERSHEY_COMPLEX, 1, (0, 0, 255), 1)\n",
    "\n",
    "cv2.namedWindow('Result (Barcode)', cv2.WINDOW_NORMAL)\n",
    "cv2.imshow('Result (Barcode)', img_bar)\n",
    "cv2.waitKey(0)\n",
    "cv2.destroyAllWindows()"
   ]
  },
  {
   "cell_type": "code",
   "execution_count": 35,
   "metadata": {},
   "outputs": [],
   "source": [
    "# Visualize Barcode\n",
    "for result in result_qr:\n",
    "    # Overlay rectangle\n",
    "    pt1 = (result.rect.left, result.rect.top)\n",
    "    pt2 = (pt1[0] + result.rect.width, pt1[1] + result.rect.height)\n",
    "    cv2.rectangle(img_qr, pt1, pt2, (0, 255, 0), 3)\n",
    "\n",
    "    # Overlay text\n",
    "    text = result.data.decode('utf-8')\n",
    "    cv2.putText(img_qr, text, (pt1[0], pt1[1] + int(result.rect.height / 2)), cv2.FONT_HERSHEY_COMPLEX, 1, (0, 0, 255), 1)\n",
    "\n",
    "cv2.namedWindow('Result (QR)', cv2.WINDOW_NORMAL)\n",
    "cv2.imshow('Result (QR)', img_qr)\n",
    "cv2.waitKey(0)\n",
    "cv2.destroyAllWindows()"
   ]
  },
  {
   "cell_type": "code",
   "execution_count": null,
   "metadata": {},
   "outputs": [],
   "source": []
  }
 ],
 "metadata": {
  "kernelspec": {
   "display_name": "Python 3",
   "language": "python",
   "name": "python3"
  },
  "language_info": {
   "codemirror_mode": {
    "name": "ipython",
    "version": 3
   },
   "file_extension": ".py",
   "mimetype": "text/x-python",
   "name": "python",
   "nbconvert_exporter": "python",
   "pygments_lexer": "ipython3",
   "version": "3.7.6"
  }
 },
 "nbformat": 4,
 "nbformat_minor": 4
}
